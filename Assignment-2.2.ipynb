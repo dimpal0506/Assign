{
 "cells": [
  {
   "cell_type": "code",
   "execution_count": 1,
   "id": "b4b7f62c-0fe4-411f-968b-818e85c03b59",
   "metadata": {},
   "outputs": [
    {
     "data": {
      "text/plain": [
       "'eoD nhoJ'"
      ]
     },
     "execution_count": 1,
     "metadata": {},
     "output_type": "execute_result"
    }
   ],
   "source": [
    "#1 Write a code to reverse a string.\n",
    "\n",
    "name = \"John Doe\"\n",
    "name[::-1]"
   ]
  },
  {
   "cell_type": "code",
   "execution_count": 16,
   "id": "81e59788-9a90-4fe6-8e55-a39a42c0b929",
   "metadata": {},
   "outputs": [
    {
     "name": "stdout",
     "output_type": "stream",
     "text": [
      "Number of Vowels : 5\n"
     ]
    }
   ],
   "source": [
    "#2 Write a code to count the number of vowels in a string.\n",
    "\n",
    "sent = \"Welcome to pwskills\"\n",
    "num_of_vowels = 0\n",
    "for char in sent:\n",
    "  if char == \"a\" or char == \"e\" or char == \"i\" or char == \"o\" or char == \"u\":\n",
    "    num_of_vowels += 1\n",
    "    \n",
    "print(f\"Number of Vowels : {num_of_vowels}\")\n"
   ]
  },
  {
   "cell_type": "code",
   "execution_count": 3,
   "id": "ce284daa-c0d9-482a-aa15-df901bd3074b",
   "metadata": {},
   "outputs": [
    {
     "name": "stdout",
     "output_type": "stream",
     "text": [
      "radar is palindrome\n"
     ]
    }
   ],
   "source": [
    "#3 Write a code to check if a given string is a palindrome or not.\n",
    "\n",
    "sent = \"radar\"\n",
    "if sent == sent[::-1]:\n",
    "  print(f\"{sent} is palindrome\")\n",
    "else:\n",
    "  print(f\"{sent} is not palindrome\")"
   ]
  },
  {
   "cell_type": "code",
   "execution_count": 4,
   "id": "af226aa8-3d66-4875-a09e-ece95fe24f7a",
   "metadata": {},
   "outputs": [
    {
     "name": "stdout",
     "output_type": "stream",
     "text": [
      "listen is anagram of silent\n"
     ]
    }
   ],
   "source": [
    "#4 Write a code to check if two given strings are anagrams of each other.\n",
    "\n",
    "string1 = \"listen\"\n",
    "string2 = \"silent\"\n",
    "\n",
    "if sorted(string1) == sorted(string2):\n",
    "  print(f\"{string1} is anagram of {string2}\")\n",
    "else:\n",
    "  printf(f\"{string2} is not anagram of {string2}\")"
   ]
  },
  {
   "cell_type": "code",
   "execution_count": 5,
   "id": "01a692ee-0af7-47f2-a2d4-a058d28498e8",
   "metadata": {},
   "outputs": [
    {
     "name": "stdout",
     "output_type": "stream",
     "text": [
      "ll is present in pwskills\n"
     ]
    }
   ],
   "source": [
    "#5 Write a code to find all occurrences of a given substring within another string.\n",
    "\n",
    "string = \"pwskills\"\n",
    "sub_string = \"ll\"\n",
    "\n",
    "if sub_string in string:\n",
    "  print(f\"{sub_string} is present in {string}\")\n",
    "else:\n",
    "  print(f\"{sub_string} is not present in {string}\")"
   ]
  },
  {
   "cell_type": "code",
   "execution_count": null,
   "id": "686c3546-7ac5-4e35-8baf-62efb65d3f3f",
   "metadata": {},
   "outputs": [],
   "source": [
    "#6 Write a code to perform basic string compression using the counts of repeated characters.\n"
   ]
  },
  {
   "cell_type": "code",
   "execution_count": 6,
   "id": "7dc48042-e397-4f31-a52b-d67152149c35",
   "metadata": {},
   "outputs": [
    {
     "name": "stdout",
     "output_type": "stream",
     "text": [
      "abcdeff has not all unique characters\n"
     ]
    }
   ],
   "source": [
    "#7 Write a code to determine if a string has all unique characters.\n",
    "\n",
    "string = \"abcdeff\"\n",
    "if len(string) == len(set(string)):\n",
    "  print(f\"{string} has all unique characters\")\n",
    "else:\n",
    "  print(f\"{string} has not all unique characters\")"
   ]
  },
  {
   "cell_type": "code",
   "execution_count": 7,
   "id": "311b3b60-7b1a-494a-ae2a-32240db7cd3e",
   "metadata": {},
   "outputs": [
    {
     "name": "stdout",
     "output_type": "stream",
     "text": [
      "Upper Case String : PWSKILLS\n",
      "Lower Case String : pwskills\n"
     ]
    }
   ],
   "source": [
    "#8 Write a code to convert a given string to uppercase or lowercase.\n",
    "\n",
    "string = \"pwskills\"\n",
    "string.upper()\n",
    "string.lower()\n",
    "print(f\"Upper Case String : {string.upper()}\")\n",
    "print(f\"Lower Case String : {string.lower()}\")"
   ]
  },
  {
   "cell_type": "code",
   "execution_count": 8,
   "id": "c38c46b8-408d-401e-969d-d5532401746a",
   "metadata": {},
   "outputs": [
    {
     "name": "stdout",
     "output_type": "stream",
     "text": [
      "Number of words in a string :7\n"
     ]
    }
   ],
   "source": [
    "#9 write a code to count the number of words in a string.\n",
    "\n",
    "sent = \"They will go on vacation next month.\"\n",
    "len(sent.split())\n",
    "print(f\"Number of words in a string :{len(sent.split())}\")"
   ]
  },
  {
   "cell_type": "code",
   "execution_count": 9,
   "id": "9007eb00-4389-4821-889b-fe590e0dcdf2",
   "metadata": {},
   "outputs": [
    {
     "name": "stdout",
     "output_type": "stream",
     "text": [
      "hello world\n"
     ]
    }
   ],
   "source": [
    "#10 Write a code to concatenate two strings without using the + operator.\n",
    "\n",
    "string1 = \"hello\"\n",
    "string2 = \"world\"\n",
    "print(string1,string2)"
   ]
  },
  {
   "cell_type": "code",
   "execution_count": 10,
   "id": "b0f574b3-3957-4395-a1a2-1f46c526ba1b",
   "metadata": {},
   "outputs": [
    {
     "name": "stdout",
     "output_type": "stream",
     "text": [
      "Before removing specific element : pwskills!!\n",
      "After removing specific element : pwskills\n"
     ]
    }
   ],
   "source": [
    "#11 Write a code to remove all the occurences of specific element from the string.\n",
    "\n",
    "string = \"pwskills!!\"\n",
    "print(f\"Before removing specific element : {string}\")\n",
    "new_string = string.replace(\"!\",\"\")\n",
    "print(f\"After removing specific element : {new_string}\")"
   ]
  },
  {
   "cell_type": "code",
   "execution_count": 12,
   "id": "30abab1f-7f17-4535-9fab-d8d487c79450",
   "metadata": {},
   "outputs": [
    {
     "name": "stdout",
     "output_type": "stream",
     "text": [
      "Second largest number : 20\n"
     ]
    }
   ],
   "source": [
    "#12 Implement a code to find the second largest number in a given list of integers.\n",
    "\n",
    "\n",
    "list_of_int = [12, 30, 14, 10, 20]\n",
    "list_of_int.sort()\n",
    "print(f\"Second largest number : {list_of_int[-2]}\")"
   ]
  },
  {
   "cell_type": "code",
   "execution_count": 13,
   "id": "b9e34f81-6c17-43da-bc80-de71cbfbac8b",
   "metadata": {},
   "outputs": [
    {
     "name": "stdout",
     "output_type": "stream",
     "text": [
      "{1: 1, 2: 4, 4: 2, 5: 3, 'hello': 2, 'world': 2}\n"
     ]
    }
   ],
   "source": [
    "#13 Create a code to count the occurences of each element in a list and return a dictionary with elements as keys and their count as values.\n",
    "\n",
    "list_of_items = [1,2,4,2,2,2,5,\"hello\",\"world\",\"hello\",5,4,5,\"world\"]\n",
    "dict_of_items = {}\n",
    "for item in list_of_items:\n",
    "  if item in dict_of_items:\n",
    "    dict_of_items[item] += 1\n",
    "  else:\n",
    "    dict_of_items[item] = 1\n",
    "\n",
    "print(dict_of_items)"
   ]
  },
  {
   "cell_type": "code",
   "execution_count": 14,
   "id": "08d9d62f-87f2-43cc-906a-2fe28bd604b6",
   "metadata": {},
   "outputs": [
    {
     "name": "stdout",
     "output_type": "stream",
     "text": [
      "Reverse list : [20, 10, 14, 30, 12]\n"
     ]
    }
   ],
   "source": [
    "#14 Write a code to reverse a list in-place without using built-in reverse function.\n",
    "\n",
    "list_of_int = [12, 30, 14, 10, 20]\n",
    "list_of_int[::-1]\n",
    "print(f\"Reverse list : {list_of_int[::-1]}\")"
   ]
  },
  {
   "cell_type": "code",
   "execution_count": 15,
   "id": "6b019024-5f6c-4ef4-a2c2-c0e7d19b4607",
   "metadata": {},
   "outputs": [
    {
     "name": "stdout",
     "output_type": "stream",
     "text": [
      "Original list: [1, 2, 4, 2, 2, 2, 5, 'hello', 'world', 'hello', 5, 4, 5, 'world']\n",
      "Unique list : [1, 2, 4, 5, 'hello', 'world']\n"
     ]
    }
   ],
   "source": [
    "#15 Implement a code to find and remove duplicates from a list while preserving the original order of elements.\n",
    "\n",
    "list_of_items = [1,2,4,2,2,2,5,\"hello\",\"world\",\"hello\",5,4,5,\"world\"]\n",
    "unique_list = []\n",
    "for item in list_of_items:\n",
    "  if item not in unique_list:\n",
    "    unique_list.append(item)\n",
    "\n",
    "print(f\"Original list: {list_of_items}\")\n",
    "print(f\"Unique list : {unique_list}\")\n",
    "    "
   ]
  },
  {
   "cell_type": "code",
   "execution_count": 16,
   "id": "ac3619cc-c20d-4d2b-bb30-69403599bb9f",
   "metadata": {},
   "outputs": [
    {
     "name": "stdout",
     "output_type": "stream",
     "text": [
      "[1, 5, 9, 10, 20] is sorted\n"
     ]
    }
   ],
   "source": [
    "#16 Create a code to check if given list is sorted (either in ascending or descending order) or not.\n",
    "\n",
    "list_of_int = [1, 5, 9, 10, 20]\n",
    "\n",
    "if list_of_int == sorted(list_of_int):\n",
    "  print(f\"{list_of_int} is sorted\")\n",
    "else:\n",
    "  print(f\"{list_of_int} is not sorted\")"
   ]
  },
  {
   "cell_type": "code",
   "execution_count": 17,
   "id": "cd3577c9-c7b6-4602-bfcc-56ac79413fae",
   "metadata": {},
   "outputs": [
    {
     "name": "stdout",
     "output_type": "stream",
     "text": [
      "List1:[1, 3, 5, 7, 9]\n",
      "List2:[2, 4, 6, 8, 10]\n",
      "Single Sorted List : [1, 2, 3, 4, 5, 6, 7, 8, 9, 10]\n"
     ]
    }
   ],
   "source": [
    "#17 Write a code to merge two sorted list into a single sorted list.\n",
    "\n",
    "list1 = [1, 3, 5, 7, 9]\n",
    "list2 = [2, 4, 6, 8, 10]\n",
    "merged_list = []\n",
    "if list1 == sorted(list1) and list2 == sorted(list2):\n",
    "  merged_list = (list1 + list2)\n",
    "\n",
    "merged_list.sort()\n",
    "\n",
    "print(f\"List1:{list1}\")\n",
    "print(f\"List2:{list2}\")\n",
    "\n",
    "print(f\"Single Sorted List : {merged_list}\")"
   ]
  },
  {
   "cell_type": "code",
   "execution_count": 19,
   "id": "93ade20a-a4d1-445f-a3f5-86ac85e78cff",
   "metadata": {},
   "outputs": [
    {
     "name": "stdout",
     "output_type": "stream",
     "text": [
      "List 1: [1, 2, 3, 4, 5]\n",
      "List 2: [4, 5, 6, 7, 8]\n",
      "\n",
      "New list : [1, 2, 3, 4, 5, 4, 5, 6, 7, 8]\n",
      "\n",
      "Union List without duplicates : [1, 2, 3, 4, 5, 6, 7, 8]\n"
     ]
    }
   ],
   "source": [
    "#18 Create a code to find the union of two lists without duplicates.\n",
    "\n",
    "\n",
    "list1 = [1, 2, 3, 4, 5]\n",
    "list2 = [4, 5, 6, 7, 8]\n",
    "print(f\"List 1: {list1}\")\n",
    "print(f\"List 2: {list2}\")\n",
    "\n",
    "new_list = list1 + list2\n",
    "print(f\"\\nNew list : {new_list}\")\n",
    " \n",
    "union_list = set(new_list) \n",
    "union_list = list(union_list)\n",
    "print(f\"\\nUnion List without duplicates : {union_list}\")"
   ]
  },
  {
   "cell_type": "code",
   "execution_count": 20,
   "id": "57519093-b3d6-4e62-9c53-dbbd343c8101",
   "metadata": {},
   "outputs": [
    {
     "name": "stdout",
     "output_type": "stream",
     "text": [
      "Original List : [1, 2, 3, 4, 5, 6, 7, 8]\n",
      "Shuffled List : [5, 7, 4, 2, 6, 3, 8, 1]\n"
     ]
    }
   ],
   "source": [
    "#19 Write a code to shuffle a given list randomly without using any built-in shuffle functions.\n",
    "\n",
    "import random\n",
    "list_of_items = [1, 2, 3, 4, 5, 6, 7, 8]\n",
    "print(f\"Original List : {list_of_items}\")\n",
    "list2 = random.sample(list_of_items, len(list_of_items))\n",
    "print(f\"Shuffled List : {list2}\")\n"
   ]
  },
  {
   "cell_type": "code",
   "execution_count": 21,
   "id": "961c300b-85cd-425e-9fc5-839197347d49",
   "metadata": {},
   "outputs": [
    {
     "name": "stdout",
     "output_type": "stream",
     "text": [
      "Tuple1 : (1, 2, 3, 4, 5, 6)\n",
      "Tuple2 : (2, 4, 6, 8, 10)\n",
      "\n",
      "List1 : [1, 2, 3, 4, 5, 6]\n",
      "List2 : [2, 4, 6, 8, 10]\n",
      "\n",
      "List_of_common_items : [2, 4, 6]\n",
      "\n",
      "New Tuple of common items : (2, 4, 6)\n"
     ]
    }
   ],
   "source": [
    "#20 Write a code that takes two tuples as input and a return a new tuple containing elements that are common to both input tuples.\n",
    "\n",
    "tuple1 = (1, 2, 3, 4, 5, 6)\n",
    "tuple2 = (2, 4, 6, 8, 10)\n",
    "print(f\"Tuple1 : {tuple1}\")\n",
    "print(f\"Tuple2 : {tuple2}\")\n",
    "\n",
    "#converting tuple into list because tuple doesn't support adding element.\n",
    "list1 = list(tuple1)\n",
    "list2 = list(tuple2)\n",
    "\n",
    "print(f\"\\nList1 : {list1}\")\n",
    "print(f\"List2 : {list2}\")\n",
    "             \n",
    "list_of_common_items = []\n",
    "\n",
    "for item in list1:\n",
    "  if item in list2:\n",
    "    list_of_common_items.append(item)\n",
    "\n",
    "print(f\"\\nList_of_common_items : {list_of_common_items}\")\n",
    "\n",
    "new_tuple = tuple(list_of_common_items)\n",
    "print(f\"\\nNew Tuple of common items : {new_tuple}\")"
   ]
  },
  {
   "cell_type": "code",
   "execution_count": 1,
   "id": "94185794-8673-4330-a4cf-c465990fab8b",
   "metadata": {},
   "outputs": [
    {
     "name": "stdin",
     "output_type": "stream",
     "text": [
      "Enter the first set of integers separated by commas:  1,2,3,4,5\n",
      "Enter the second set of integers separated by commas:  3,4,5,6,7\n"
     ]
    },
    {
     "name": "stdout",
     "output_type": "stream",
     "text": [
      "\n",
      "Set1 {'3', '4', '5', '2', '1'}\n",
      "Set2 {'3', '4', '5', '7', '6'}\n",
      "\n",
      "Intersection of two sets : {'3', '5', '4'}\n"
     ]
    }
   ],
   "source": [
    "#21 Create a code that prompts the user to enter two sets of integers separated by commas. Then, print the intersection of these two sets.\n",
    "\n",
    "set1 = input(\"Enter the first set of integers separated by commas: \")\n",
    "set2 = input(\"Enter the second set of integers separated by commas: \")\n",
    "\n",
    "new_set1 = set(set1.split(\",\"))\n",
    "new_set2 = set(set2.split(\",\"))\n",
    "\n",
    "print(\"\\nSet1\", new_set1)\n",
    "print(\"Set2\", new_set2)\n",
    "\n",
    "intersection_of_sets = new_set1.intersection(new_set2)\n",
    "print(f\"\\nIntersection of two sets : {intersection_of_sets}\")"
   ]
  },
  {
   "cell_type": "code",
   "execution_count": 23,
   "id": "348be6f8-73ec-4d62-a840-579cd196515c",
   "metadata": {},
   "outputs": [
    {
     "name": "stdin",
     "output_type": "stream",
     "text": [
      "Enter the first tuple: 1,2,3,4,5\n",
      "Enter the second tuple: 6,7,8,9,0\n"
     ]
    },
    {
     "name": "stdout",
     "output_type": "stream",
     "text": [
      "Tuple1 : ('1', '2', '3', '4', '5')\n",
      "Tuple2 : ('6', '7', '8', '9', '0')\n",
      "\n",
      "New Tuple : ('1', '2', '3', '4', '5', '6', '7', '8', '9', '0')\n"
     ]
    }
   ],
   "source": [
    "#22 Write a code to concatenate two tuples. The function should take two tuples as input and return a new tuple containing element from both input tuples.\n",
    "\n",
    "input1 = input(\"Enter the first tuple:\")\n",
    "input2 = input(\"Enter the second tuple:\")\n",
    "\n",
    "tuple1 = tuple(input1.split(\",\"))\n",
    "tuple2 = tuple(input2.split(\",\"))\n",
    "\n",
    "print(f\"Tuple1 : {tuple1}\")\n",
    "print(f\"Tuple2 : {tuple2}\")\n",
    "\n",
    "new_tuple = tuple1 + tuple2\n",
    "print(f\"\\nNew Tuple : {new_tuple}\")"
   ]
  },
  {
   "cell_type": "code",
   "execution_count": 24,
   "id": "5da5eba7-aefe-49c9-9814-e1cdcc240669",
   "metadata": {},
   "outputs": [
    {
     "name": "stdin",
     "output_type": "stream",
     "text": [
      "Enter the first set of string: ram,soham,priya\n",
      "Enter the second set of string: vijay,soham,mansi\n"
     ]
    },
    {
     "name": "stdout",
     "output_type": "stream",
     "text": [
      "\n",
      "Set1 : {'soham', 'priya', 'ram'}\n",
      "Set2 : {'soham', 'mansi', 'vijay'}\n",
      "\n",
      "Elements that represent in the first set but not in the second set :  {'priya', 'ram'}\n"
     ]
    }
   ],
   "source": [
    "#23 Develop a code that prompts the user to input two sets of strings.Then, print the elements that represent in the first set but not in the second set.\n",
    "\n",
    "input1 = input(\"Enter the first set of string:\")\n",
    "input2 = input(\"Enter the second set of string:\")\n",
    "\n",
    "set1 = set(input1.split(\",\"))\n",
    "set2 = set(input2.split(\",\"))\n",
    "\n",
    "print(f\"\\nSet1 : {set1}\")\n",
    "print(f\"Set2 : {set2}\")\n",
    "\n",
    "new_set = set1.difference(set2)\n",
    "print(f\"\\nElements that represent in the first set but not in the second set : \",new_set)"
   ]
  },
  {
   "cell_type": "code",
   "execution_count": 14,
   "id": "4b36ee8f-a9fb-4e18-8326-13f7c910e5a4",
   "metadata": {},
   "outputs": [
    {
     "name": "stdin",
     "output_type": "stream",
     "text": [
      "Enter the tuple: 2,4,6,8,10\n"
     ]
    },
    {
     "name": "stdout",
     "output_type": "stream",
     "text": [
      "\n",
      "Tuple : ('2', '4', '6', '8', '10')\n"
     ]
    },
    {
     "name": "stdin",
     "output_type": "stream",
     "text": [
      "\n",
      "Enter the first integer: 1\n",
      "Enter the second integer: 4\n"
     ]
    },
    {
     "name": "stdout",
     "output_type": "stream",
     "text": [
      "\n",
      "New tuple within the specified range of indices: ('4', '6', '8') \n"
     ]
    }
   ],
   "source": [
    "#24 Create a code that takes a tuple and two integers as input. The function should return a new tuple containing elements from the original tuple within the specified range of indices.\n",
    "input_tuple = input(\"Enter the tuple:\")\n",
    "\n",
    "tuple_of_items = tuple(input_tuple.split(\",\"))\n",
    "\n",
    "print(f\"\\nTuple : {tuple_of_items}\")\n",
    "\n",
    "int1= int(input(\"\\nEnter the first integer:\"))\n",
    "int2= int(input(\"Enter the second integer:\"))\n",
    "\n",
    "new_tuple = tuple_of_items[int1:int2]\n",
    "\n",
    "print(f\"\\nNew tuple within the specified range of indices: {new_tuple} \")"
   ]
  },
  {
   "cell_type": "code",
   "execution_count": 25,
   "id": "9e032e57-462f-4011-9e72-49d0ac3beef1",
   "metadata": {},
   "outputs": [
    {
     "name": "stdin",
     "output_type": "stream",
     "text": [
      "Enter the first set of character: h,i,y,j,k,l\n",
      "Enter the second set of character: f,g,t,u,j,l\n"
     ]
    },
    {
     "name": "stdout",
     "output_type": "stream",
     "text": [
      "\n",
      "Set1 : {'y', 'j', 'l', 'k', 'i', 'h'}\n",
      "Set2 : {'u', 'j', 'l', 'f', 't', 'g'}\n",
      "\n",
      "Union of two sets :  {'u', 'y', 'j', 'l', 'f', 'k', 'i', 'g', 't', 'h'}\n"
     ]
    }
   ],
   "source": [
    "#25 Write a code that prompts the user to input two sets of characters. Then print the union of these two sets.\n",
    "input1 = input(\"Enter the first set of character:\")\n",
    "input2 = input(\"Enter the second set of character:\")\n",
    "\n",
    "set1 = set(input1.split(\",\"))\n",
    "set2 = set(input2.split(\",\"))\n",
    "\n",
    "print(f\"\\nSet1 : {set1}\")\n",
    "print(f\"Set2 : {set2}\")\n",
    "\n",
    "new_set = set1.union(set2)\n",
    "print(f\"\\nUnion of two sets : \",new_set)\n"
   ]
  },
  {
   "cell_type": "code",
   "execution_count": 13,
   "id": "7d90f661-dde8-4633-89e6-70c56ec659f0",
   "metadata": {},
   "outputs": [
    {
     "name": "stdin",
     "output_type": "stream",
     "text": [
      "Enter the tuple of integers: 1,2,3,4,5,6\n"
     ]
    },
    {
     "name": "stdout",
     "output_type": "stream",
     "text": [
      "\n",
      "Tuple of Integers : ('1', '2', '3', '4', '5', '6')\n",
      "\n",
      "Maximum Value : 6\n",
      "Minimum Value : 1\n"
     ]
    }
   ],
   "source": [
    "#26 Develop a code that takes a tuples of integers as input. The function should return the maximum and minimum values from the tuple using tuple unpacking.\n",
    "input_of_int = input(\"Enter the tuple of integers:\")\n",
    "\n",
    "tuple_of_int = tuple(input_of_int.split(\",\"))\n",
    "\n",
    "\n",
    "print(f\"\\nTuple of Integers : {tuple_of_int}\")\n",
    "\n",
    "\n",
    "max_value = max(tuple_of_int)\n",
    "min_value = min(tuple_of_int)\n",
    "\n",
    "print(f\"\\nMaximum Value : {max_value}\")\n",
    "print(f\"Minimum Value : {min_value}\")"
   ]
  },
  {
   "cell_type": "code",
   "execution_count": 2,
   "id": "fcedce20-f592-448f-badc-662eda7dd529",
   "metadata": {},
   "outputs": [
    {
     "name": "stdout",
     "output_type": "stream",
     "text": [
      "Set1 : {1, 2, 3, 4, 5, 6, 7}\n",
      "Set2 : {4, 5, 6, 7, 8, 9, 10}\n",
      "\n",
      "Union of sets : {1, 2, 3, 4, 5, 6, 7, 8, 9, 10}\n",
      "\n",
      "Intersection of sets : {4, 5, 6, 7}\n",
      "\n",
      "Difference of sets : {1, 2, 3}\n"
     ]
    }
   ],
   "source": [
    "#27 Create a code that defines two sets of integers. Then print the union, intersection and difference of these two sets.\n",
    "\n",
    "set1 = {1,2,3,4,5,6,7}\n",
    "set2 = {4,5,6,7,8,9,10}\n",
    "\n",
    "print(f\"Set1 : {set1}\")\n",
    "print(f\"Set2 : {set2}\")\n",
    "\n",
    "#union of sets\n",
    "union_of_sets = set1.union(set2)\n",
    "print(f\"\\nUnion of sets : {union_of_sets}\")\n",
    "\n",
    "#intersection of sets\n",
    "intersection_of_sets = set1.intersection(set2)\n",
    "print(f\"\\nIntersection of sets : {intersection_of_sets}\")\n",
    "\n",
    "#difference of sets\n",
    "difference_of_sets = set1.difference(set2)\n",
    "print(f\"\\nDifference of sets : {difference_of_sets}\")"
   ]
  },
  {
   "cell_type": "code",
   "execution_count": 3,
   "id": "03d9980a-27cf-4872-a57f-686c40b6e0b2",
   "metadata": {},
   "outputs": [
    {
     "name": "stdin",
     "output_type": "stream",
     "text": [
      "Enter the tuple: 1,1,2,2,2,3,2,4,3,3,5,5,5,4\n",
      "Enter the element: 2\n"
     ]
    },
    {
     "name": "stdout",
     "output_type": "stream",
     "text": [
      "\n",
      "Tuple : ('1', '1', '2', '2', '2', '3', '2', '4', '3', '3', '5', '5', '5', '4')\n",
      "\n",
      "Count of element : 4\n"
     ]
    }
   ],
   "source": [
    "#28 Write a code that takes tuple and an elements as input. The function should return the count of occurences of given elements in the tuple.\n",
    "\n",
    "tuple_of_items = input(\"Enter the tuple:\")\n",
    "element = input(\"Enter the element:\")\n",
    "\n",
    "tuple_of_items = tuple(tuple_of_items.split(\",\"))\n",
    "print(f\"\\nTuple : {tuple_of_items}\")\n",
    "\n",
    "count_of_element = tuple_of_items.count(element)\n",
    "print(f\"\\nCount of element : {count_of_element}\")\n"
   ]
  },
  {
   "cell_type": "code",
   "execution_count": 4,
   "id": "df06efc3-f9ef-40c9-a810-e482376a0f0f",
   "metadata": {},
   "outputs": [
    {
     "name": "stdin",
     "output_type": "stream",
     "text": [
      "Enter the first set of strings: ram,vijay,pwskills\n",
      "Enter the second set of strings: hello,world,pwskills\n"
     ]
    },
    {
     "name": "stdout",
     "output_type": "stream",
     "text": [
      "\n",
      "Set1 : {'pwskills', 'ram', 'vijay'}\n",
      "Set2 :{'hello', 'world', 'pwskills'}\n",
      "\n",
      "Symmetric Difference : {'hello', 'world', 'ram', 'vijay'}\n"
     ]
    }
   ],
   "source": [
    "#29 Develop a code that prompts the user to input two sets of strings. Then print the symmetric difference of these two sets.\n",
    "input1 = input(\"Enter the first set of strings:\")\n",
    "input2 = input(\"Enter the second set of strings:\")\n",
    "\n",
    "set1 = set(input1.split(\",\"))\n",
    "set2 = set(input2.split(\",\"))\n",
    "\n",
    "print(f\"\\nSet1 : {set1}\")\n",
    "print(f\"Set2 :{set2}\")\n",
    "\n",
    "#symmetric difference\n",
    "symmetric_difference = set1.symmetric_difference(set2)\n",
    "print(f\"\\nSymmetric Difference : {symmetric_difference}\")"
   ]
  },
  {
   "cell_type": "code",
   "execution_count": 5,
   "id": "53e586d1-2e13-455f-9b40-989b14316fad",
   "metadata": {},
   "outputs": [
    {
     "name": "stdin",
     "output_type": "stream",
     "text": [
      "Enter the list of words: hello,hello,world,pwskills,pwskills,pwskills,ram,vijay,ram,hello\n"
     ]
    },
    {
     "name": "stdout",
     "output_type": "stream",
     "text": [
      "\n",
      "List of Words : ['hello', 'hello', 'world', 'pwskills', 'pwskills', 'pwskills', 'ram', 'vijay', 'ram', 'hello']\n",
      "\n",
      "Dictionary of Words : {'hello': 3, 'world': 1, 'pwskills': 3, 'ram': 2, 'vijay': 1}\n"
     ]
    }
   ],
   "source": [
    "#30 Write a code that takes a list of words as input and retur a dictionary where the keys are unique words and the values are the frequencies of those words in the input list.\n",
    "input_words = input(\"Enter the list of words:\")\n",
    "list_of_words = list(input_words.split(\",\"))\n",
    "print(f\"\\nList of Words : {list_of_words}\")\n",
    "\n",
    "dict_of_words = {}\n",
    "for word in list_of_words:\n",
    "  if word in dict_of_words:\n",
    "    dict_of_words[word] +=1\n",
    "  else:\n",
    "    dict_of_words[word] = 1\n",
    "\n",
    "print(f\"\\nDictionary of Words : {dict_of_words}\") "
   ]
  },
  {
   "cell_type": "code",
   "execution_count": null,
   "id": "64800223-337f-4a51-8f84-945d84ddb7c5",
   "metadata": {},
   "outputs": [],
   "source": [
    "#31 Write a code that takes two dictionaries as input and merges them into a single dictionary. If there are common keys, the values should be added togethe.\n"
   ]
  },
  {
   "cell_type": "code",
   "execution_count": null,
   "id": "a3b62164-37e2-41f5-8667-a569ee88fc6a",
   "metadata": {},
   "outputs": [],
   "source": [
    "#32 Write a code to access value in nested dictionary.  function should take the dictionary and a list of keys as input and return the corresponding value. If any of the keys do not exist in the dictionary, the function should return None.\n"
   ]
  },
  {
   "cell_type": "code",
   "execution_count": null,
   "id": "e537dc49-a11d-446c-a339-dba16e32ed2d",
   "metadata": {},
   "outputs": [],
   "source": [
    "#33 Write a code that takes a dictionaries as input and returns a sorted version of it based on the values. You can choose whether to sort in ascending and descending order.\n"
   ]
  },
  {
   "cell_type": "code",
   "execution_count": null,
   "id": "8c060029-8f83-41f0-be40-e3fbd26fc9a4",
   "metadata": {},
   "outputs": [],
   "source": [
    "#34 Write a code that inverts a dictionary swapping keys and values. Ensure that the iinverted dictionary correctly handles cases where multiple keys have the same value be storing the keys as a list in the inverted dictionary..\n"
   ]
  },
  {
   "cell_type": "code",
   "execution_count": 12,
   "id": "8a258e08-45bd-496e-8e24-a3868540d048",
   "metadata": {},
   "outputs": [
    {
     "name": "stdout",
     "output_type": "stream",
     "text": [
      "List1 : [1, 2, 3, 4, 5]\n",
      "List2 : [3, 4, 5, 6, 7]\n",
      "\n",
      "Intersection of two lists : {3, 4, 5}\n"
     ]
    }
   ],
   "source": [
    "#35 Implement code to find the intersection of two given list.\n",
    "list1 = [1, 2, 3, 4, 5]\n",
    "list2 = [3, 4, 5, 6, 7]\n",
    "\n",
    "print(f\"List1 : {list1}\")\n",
    "print(f\"List2 : {list2}\")\n",
    "\n",
    "intersection_of_lists = set(list1).intersection(set(list2))\n",
    "print(f\"\\nIntersection of two lists : {intersection_of_lists}\")"
   ]
  },
  {
   "cell_type": "code",
   "execution_count": null,
   "id": "429ae9a5-59cf-4753-b872-cc28c4f9b65d",
   "metadata": {},
   "outputs": [],
   "source": []
  }
 ],
 "metadata": {
  "kernelspec": {
   "display_name": "Python 3 (ipykernel)",
   "language": "python",
   "name": "python3"
  },
  "language_info": {
   "codemirror_mode": {
    "name": "ipython",
    "version": 3
   },
   "file_extension": ".py",
   "mimetype": "text/x-python",
   "name": "python",
   "nbconvert_exporter": "python",
   "pygments_lexer": "ipython3",
   "version": "3.10.8"
  }
 },
 "nbformat": 4,
 "nbformat_minor": 5
}
