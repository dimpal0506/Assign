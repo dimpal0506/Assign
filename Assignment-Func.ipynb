{
 "cells": [
  {
   "cell_type": "markdown",
   "id": "fb941531-7421-4f58-a039-255f75b807c7",
   "metadata": {},
   "source": [
    "#Theory Questions:"
   ]
  },
  {
   "cell_type": "code",
   "execution_count": 8,
   "id": "323a7f0e-cb0b-4918-8779-b7ee8d903fe4",
   "metadata": {},
   "outputs": [
    {
     "name": "stdout",
     "output_type": "stream",
     "text": [
      "Hello, Alice, How are you !!\n"
     ]
    }
   ],
   "source": [
    "#1. What is the difference between a function and a method in Python?\n",
    "#Answer:\n",
    "##>>Function:\n",
    "#A function is a block of code (or statement) that performs a specific task and runs only when it is called. \n",
    "#There are mainly two types of functions in Python.\n",
    "#inbuilt function and user defined function.\n",
    "#functions break down the vast code in smaller blocks which is easily executable.\n",
    "#Functions are resusable and it keeps your code neat, clean, and organized.\n",
    "#It saves your time.\n",
    "#Syntax:\n",
    "#def func():\n",
    "    #code/body\n",
    "    \n",
    "\n",
    "##>>Method:\n",
    "#As Python is an Object-Oriented Programming language, so it contains objects, and these objects have different properties and behavior. \n",
    "#Methods in Python are used to define the behavior of the python objects.\n",
    "#It facilitates code reusability by creating various methods or functions in the program.\n",
    "#It also improves readability and accessibility to a particular code block.\n",
    "#Methods creation makes it easy to debug for the programmers.\n",
    "#Syntax:\n",
    " #class ClassName:\n",
    "  # def method_name():\n",
    "    \n",
    "      # Method_body\n",
    "\n",
    "        \n",
    "##Example of Function:\n",
    "\n",
    "def greet(name):\n",
    "    print(f\"Hello, {name}, How are you !!\")\n",
    "    \n",
    "greet(\"Alice\")    \n"
   ]
  },
  {
   "cell_type": "code",
   "execution_count": 9,
   "id": "9ec2c9d6-d359-40e7-8312-c473a319101d",
   "metadata": {},
   "outputs": [
    {
     "name": "stdout",
     "output_type": "stream",
     "text": [
      "I am Vikram\n"
     ]
    }
   ],
   "source": [
    "##Example of Method:\n",
    "\n",
    "class Employee(object):\n",
    "   def my_method(self):\n",
    "      print(\"I am Vikram\")\n",
    "name = Employee()\n",
    "name.my_method()"
   ]
  },
  {
   "cell_type": "code",
   "execution_count": 11,
   "id": "722ce56b-691b-4ae2-97d6-468db7fe2f5a",
   "metadata": {},
   "outputs": [
    {
     "name": "stdout",
     "output_type": "stream",
     "text": [
      "9\n"
     ]
    }
   ],
   "source": [
    "#2. Explain the concept of function arguments and parameters in Python.\n",
    "#Answer:\n",
    "\n",
    "##>>Arguments:\n",
    "#An argument is a value that is passed to a function when it is called. \n",
    "#It might be a variable, value or object passed to a function or method as input. \n",
    "#They are written when we are calling the function.\n",
    "#Python functions can contain three types of arguments: >> Positional Arguments and Keyword Arguments and Default Arguments\n",
    "\n",
    "##>>Parameters:\n",
    "#A parameter is the variable defined within the parentheses during function definition. \n",
    "#Simply they are written when we declare a function. \n",
    "#They act as placeholders for the values (arguments) that are passed to the function when it is called.\n",
    "\n",
    "\n",
    "##Example of Arguments and Parameters:\n",
    "def sum(a,b):        #here,a and b are parameters\n",
    "    print(a+b)\n",
    "    \n",
    "sum(5,4)        #here,5 and 4 are the arguments\n",
    "\n"
   ]
  },
  {
   "cell_type": "code",
   "execution_count": 1,
   "id": "bb66079a-57ab-4531-9a94-cc188a63bf29",
   "metadata": {},
   "outputs": [
    {
     "name": "stdout",
     "output_type": "stream",
     "text": [
      "25\n"
     ]
    }
   ],
   "source": [
    "#3. What are the different ways to define and call a function in Python?\n",
    "#Answer:\n",
    "###1.using print statement.\n",
    "\n",
    "def sq_num(x):\n",
    "    print( x ** 2)\n",
    "\n",
    "sq_num(5)\n",
    "\n"
   ]
  },
  {
   "cell_type": "code",
   "execution_count": 2,
   "id": "d850169e-737b-4e5a-9fd2-00a137f13aa0",
   "metadata": {},
   "outputs": [
    {
     "name": "stdout",
     "output_type": "stream",
     "text": [
      "125\n"
     ]
    }
   ],
   "source": [
    "###2.using return satement:\n",
    "\n",
    "def cube_num(x):\n",
    "    print(x ** 3)\n",
    "    \n",
    "cube_num(5)"
   ]
  },
  {
   "cell_type": "code",
   "execution_count": 3,
   "id": "14abbcd9-cced-4704-ae6b-d64d90c23fce",
   "metadata": {},
   "outputs": [
    {
     "name": "stdout",
     "output_type": "stream",
     "text": [
      "Hello how are you..!!\n"
     ]
    }
   ],
   "source": [
    "###3.defining function by passing nothing.\n",
    "\n",
    "def greeting():\n",
    "    print(\"Hello how are you..!!\")\n",
    "\n",
    "greeting()"
   ]
  },
  {
   "cell_type": "code",
   "execution_count": 4,
   "id": "7be72452-423f-440f-aa5f-8a7640bd1bc4",
   "metadata": {},
   "outputs": [
    {
     "data": {
      "text/plain": [
       "9"
      ]
     },
     "execution_count": 4,
     "metadata": {},
     "output_type": "execute_result"
    }
   ],
   "source": [
    "###4.Defining function by passing arguments/parameters.\n",
    "\n",
    "def sum(a,b):\n",
    "    return(a + b)\n",
    "\n",
    "sum(4,5)"
   ]
  },
  {
   "cell_type": "code",
   "execution_count": 22,
   "id": "09e2759a-222b-4b93-9e22-aa4f8b407076",
   "metadata": {},
   "outputs": [
    {
     "data": {
      "text/plain": [
       "[2, 4, 6, 8]"
      ]
     },
     "execution_count": 22,
     "metadata": {},
     "output_type": "execute_result"
    }
   ],
   "source": [
    "#4. What is the purpose of the `return` statement in a Python function?\n",
    "#Answer:\n",
    "#A return statement is used to end the execution of the function call and “returns” the result to the caller. \n",
    "#The statements after the return statements are not executed. \n",
    "#If the return statement is without any expression, then the special value None is returned. \n",
    "#A return statement is overall used to invoke a function so that the passed statements can be executed.\n",
    "#If we use print instead of return, we lost our output. \n",
    "#but return statement doesn't lost the output.\n",
    "\n",
    "#Example:\n",
    "def even_num(start, end):\n",
    "    even_list = []\n",
    "    for i in range(start, end):\n",
    "        if i % 2 == 0:\n",
    "            even_list.append(i)\n",
    "    return even_list\n",
    "\n",
    "even_num(1,10)"
   ]
  },
  {
   "cell_type": "code",
   "execution_count": 50,
   "id": "18adb412-c95c-496d-8882-640b51efa8bf",
   "metadata": {},
   "outputs": [
    {
     "data": {
      "text/plain": [
       "<list_iterator at 0x7f1056624fd0>"
      ]
     },
     "execution_count": 50,
     "metadata": {},
     "output_type": "execute_result"
    }
   ],
   "source": [
    "#5. What are iterators in Python and how do they differ from iterables?\n",
    "#Answer:\n",
    "#An iterator is an object representing the stream of data.\n",
    "#returned the data one by one.\n",
    "#The intermediate steps where you can create an object that can be iterated that is called as iterator.\n",
    "#whereas,\n",
    "#iterables are the objects that can iterate over the specified range.\n",
    "#example:\n",
    "\n",
    "a = iter([1,2,3,4,5])      #a is variable and iter() is suggest that object or list is ready to iterate\n",
    "a\n"
   ]
  },
  {
   "cell_type": "code",
   "execution_count": 51,
   "id": "528da3a9-2828-4337-9911-bdf53096f6e4",
   "metadata": {},
   "outputs": [
    {
     "data": {
      "text/plain": [
       "1"
      ]
     },
     "execution_count": 51,
     "metadata": {},
     "output_type": "execute_result"
    }
   ],
   "source": [
    "next(a)       #printing item one by one"
   ]
  },
  {
   "cell_type": "code",
   "execution_count": 52,
   "id": "bc7653f2-ff71-4522-b323-6ea2f18387d8",
   "metadata": {},
   "outputs": [
    {
     "data": {
      "text/plain": [
       "2"
      ]
     },
     "execution_count": 52,
     "metadata": {},
     "output_type": "execute_result"
    }
   ],
   "source": [
    "next(a)"
   ]
  },
  {
   "cell_type": "code",
   "execution_count": 53,
   "id": "dffdffb7-0f15-43d5-aaed-91d342840338",
   "metadata": {},
   "outputs": [
    {
     "data": {
      "text/plain": [
       "3"
      ]
     },
     "execution_count": 53,
     "metadata": {},
     "output_type": "execute_result"
    }
   ],
   "source": [
    "next(a)"
   ]
  },
  {
   "cell_type": "code",
   "execution_count": 54,
   "id": "40b2023e-4afb-4e2d-811a-0f7ec32b34bd",
   "metadata": {},
   "outputs": [
    {
     "data": {
      "text/plain": [
       "4"
      ]
     },
     "execution_count": 54,
     "metadata": {},
     "output_type": "execute_result"
    }
   ],
   "source": [
    "next(a)"
   ]
  },
  {
   "cell_type": "code",
   "execution_count": 55,
   "id": "121d78bd-1415-41df-82e0-e6b4b269f54a",
   "metadata": {},
   "outputs": [
    {
     "data": {
      "text/plain": [
       "5"
      ]
     },
     "execution_count": 55,
     "metadata": {},
     "output_type": "execute_result"
    }
   ],
   "source": [
    "next(a)"
   ]
  },
  {
   "cell_type": "code",
   "execution_count": 57,
   "id": "60ec4084-7c57-4fe4-8683-7d08bf03c220",
   "metadata": {},
   "outputs": [
    {
     "ename": "StopIteration",
     "evalue": "",
     "output_type": "error",
     "traceback": [
      "\u001b[0;31m---------------------------------------------------------------------------\u001b[0m",
      "\u001b[0;31mStopIteration\u001b[0m                             Traceback (most recent call last)",
      "Cell \u001b[0;32mIn[57], line 1\u001b[0m\n\u001b[0;32m----> 1\u001b[0m \u001b[38;5;28;43mnext\u001b[39;49m\u001b[43m(\u001b[49m\u001b[43ma\u001b[49m\u001b[43m)\u001b[49m      \u001b[38;5;66;03m#error >> stop iteration\u001b[39;00m\n",
      "\u001b[0;31mStopIteration\u001b[0m: "
     ]
    }
   ],
   "source": [
    "next(a)      #error >> stop iteration"
   ]
  },
  {
   "cell_type": "code",
   "execution_count": 58,
   "id": "55c992e3-3751-41a0-a3d4-a5215bbc074a",
   "metadata": {},
   "outputs": [
    {
     "data": {
      "text/plain": [
       "<generator object cube_number at 0x7f10562a03c0>"
      ]
     },
     "execution_count": 58,
     "metadata": {},
     "output_type": "execute_result"
    }
   ],
   "source": [
    "#6. Explain the concept of generators in Python and how they are defined.\n",
    "#Answer:\n",
    "#Regular function calculates the expression and return in one go\n",
    "#Since, its returning in one go, memory will be more and it will a lot of execution time,\n",
    "#if there is a lot of computation will be done first and then the calculation will be returned in one go.\n",
    "#A generator function in Python is defined like a normal function, \n",
    "#but whenever it needs to generate a value, it does so with the yield keyword rather than return.\n",
    "#If the body of a def contains yield, the function automatically becomes a Python generator function. \n",
    "#Syntax:\n",
    "#def expression():\n",
    "    #yield-statement\n",
    "    \n",
    "    \n",
    "#Example:\n",
    "def cube_number(n):\n",
    "    for i in range(n):\n",
    "        yield i ** 3\n",
    "\n",
    "\n",
    "cube_number(5)\n"
   ]
  },
  {
   "cell_type": "code",
   "execution_count": 60,
   "id": "c1d62cdf-705e-400a-bd10-abad55c385d1",
   "metadata": {},
   "outputs": [
    {
     "data": {
      "text/plain": [
       "<generator object cube_number at 0x7f10562a0900>"
      ]
     },
     "execution_count": 60,
     "metadata": {},
     "output_type": "execute_result"
    }
   ],
   "source": [
    "#assign to a small variable\n",
    "gen = cube_number(5)\n",
    "gen"
   ]
  },
  {
   "cell_type": "code",
   "execution_count": 61,
   "id": "f6502acb-3f63-47ae-a1d8-bcb9c2f2bd2f",
   "metadata": {},
   "outputs": [
    {
     "data": {
      "text/plain": [
       "0"
      ]
     },
     "execution_count": 61,
     "metadata": {},
     "output_type": "execute_result"
    }
   ],
   "source": [
    "next(gen)     #prinnting cube of item one by one\n",
    "              #iterate item"
   ]
  },
  {
   "cell_type": "code",
   "execution_count": 62,
   "id": "d083791d-7c17-49c1-8b3b-edcbc4e446c9",
   "metadata": {},
   "outputs": [
    {
     "data": {
      "text/plain": [
       "1"
      ]
     },
     "execution_count": 62,
     "metadata": {},
     "output_type": "execute_result"
    }
   ],
   "source": [
    "next(gen)"
   ]
  },
  {
   "cell_type": "code",
   "execution_count": 63,
   "id": "166ed7d5-ee4e-412f-b524-1d894a32cd50",
   "metadata": {},
   "outputs": [
    {
     "data": {
      "text/plain": [
       "8"
      ]
     },
     "execution_count": 63,
     "metadata": {},
     "output_type": "execute_result"
    }
   ],
   "source": [
    "next(gen)"
   ]
  },
  {
   "cell_type": "code",
   "execution_count": 64,
   "id": "637e7def-e83b-4903-a999-5e12381630fc",
   "metadata": {},
   "outputs": [
    {
     "data": {
      "text/plain": [
       "27"
      ]
     },
     "execution_count": 64,
     "metadata": {},
     "output_type": "execute_result"
    }
   ],
   "source": [
    "next(gen)"
   ]
  },
  {
   "cell_type": "code",
   "execution_count": 65,
   "id": "e7fcf815-2615-4998-af63-a901956384f6",
   "metadata": {},
   "outputs": [
    {
     "data": {
      "text/plain": [
       "64"
      ]
     },
     "execution_count": 65,
     "metadata": {},
     "output_type": "execute_result"
    }
   ],
   "source": [
    "next(gen)"
   ]
  },
  {
   "cell_type": "code",
   "execution_count": 66,
   "id": "65ea1e96-6eee-4ad2-8f8e-8748ad039010",
   "metadata": {},
   "outputs": [
    {
     "ename": "StopIteration",
     "evalue": "",
     "output_type": "error",
     "traceback": [
      "\u001b[0;31m---------------------------------------------------------------------------\u001b[0m",
      "\u001b[0;31mStopIteration\u001b[0m                             Traceback (most recent call last)",
      "Cell \u001b[0;32mIn[66], line 1\u001b[0m\n\u001b[0;32m----> 1\u001b[0m \u001b[38;5;28;43mnext\u001b[39;49m\u001b[43m(\u001b[49m\u001b[43mgen\u001b[49m\u001b[43m)\u001b[49m\n",
      "\u001b[0;31mStopIteration\u001b[0m: "
     ]
    }
   ],
   "source": [
    "next(gen)"
   ]
  },
  {
   "cell_type": "code",
   "execution_count": 70,
   "id": "fee48119-3833-4f81-8c95-b1731d08317d",
   "metadata": {},
   "outputs": [
    {
     "data": {
      "text/plain": [
       "<generator object generator_function at 0x7f10562a0dd0>"
      ]
     },
     "execution_count": 70,
     "metadata": {},
     "output_type": "execute_result"
    }
   ],
   "source": [
    "#7. What are the advantages of using generators over regular functions?\n",
    "#Answer:\n",
    "#a generator is a function that returns an iterable set of values.\n",
    "#Generators avoid creating a list or other data structure in memory to store the values as they are produced, \n",
    "#instead replacing them one by one over time. \n",
    "#This makes them more efficient than loops for large datasets and allows for code that runs in linear time.\n",
    "\n",
    "\n",
    "#Example:\n",
    "def generator_function():\n",
    "    for i in range(5):\n",
    "        yield i\n",
    " \n",
    "generator_function()"
   ]
  },
  {
   "cell_type": "code",
   "execution_count": 71,
   "id": "11911f49-2086-4dfb-9af1-e20ae2981fbe",
   "metadata": {},
   "outputs": [
    {
     "data": {
      "text/plain": [
       "<generator object generator_function at 0x7f10562a1070>"
      ]
     },
     "execution_count": 71,
     "metadata": {},
     "output_type": "execute_result"
    }
   ],
   "source": [
    "a = generator_function()          #assigning to a small variable\n",
    "a"
   ]
  },
  {
   "cell_type": "code",
   "execution_count": 72,
   "id": "ff007491-755c-40cd-9d31-59c6d916655a",
   "metadata": {},
   "outputs": [
    {
     "data": {
      "text/plain": [
       "0"
      ]
     },
     "execution_count": 72,
     "metadata": {},
     "output_type": "execute_result"
    }
   ],
   "source": [
    "next(a)"
   ]
  },
  {
   "cell_type": "code",
   "execution_count": 73,
   "id": "2bdb1ad2-21d1-48cf-b00d-95933cf8e931",
   "metadata": {},
   "outputs": [
    {
     "data": {
      "text/plain": [
       "1"
      ]
     },
     "execution_count": 73,
     "metadata": {},
     "output_type": "execute_result"
    }
   ],
   "source": [
    "next(a)"
   ]
  },
  {
   "cell_type": "code",
   "execution_count": 74,
   "id": "8b5bab34-8e17-48a2-801f-dc9e256f3ba6",
   "metadata": {},
   "outputs": [
    {
     "data": {
      "text/plain": [
       "2"
      ]
     },
     "execution_count": 74,
     "metadata": {},
     "output_type": "execute_result"
    }
   ],
   "source": [
    "next(a)"
   ]
  },
  {
   "cell_type": "code",
   "execution_count": 75,
   "id": "9effe2df-ea60-46da-84ed-6f08dce5814f",
   "metadata": {},
   "outputs": [
    {
     "data": {
      "text/plain": [
       "3"
      ]
     },
     "execution_count": 75,
     "metadata": {},
     "output_type": "execute_result"
    }
   ],
   "source": [
    "next(a)"
   ]
  },
  {
   "cell_type": "code",
   "execution_count": 76,
   "id": "f848bb75-1ff9-4137-96b0-544066b69c63",
   "metadata": {},
   "outputs": [
    {
     "data": {
      "text/plain": [
       "4"
      ]
     },
     "execution_count": 76,
     "metadata": {},
     "output_type": "execute_result"
    }
   ],
   "source": [
    "next(a)"
   ]
  },
  {
   "cell_type": "code",
   "execution_count": null,
   "id": "cf2c73a3-414e-476b-97e0-0fe241078ef0",
   "metadata": {},
   "outputs": [],
   "source": [
    "next(a)\n"
   ]
  },
  {
   "cell_type": "code",
   "execution_count": 81,
   "id": "10a1c740-21a0-436d-97df-1af6b65bb410",
   "metadata": {},
   "outputs": [
    {
     "data": {
      "text/plain": [
       "4"
      ]
     },
     "execution_count": 81,
     "metadata": {},
     "output_type": "execute_result"
    }
   ],
   "source": [
    "#8. What is a lambda function in Python and when is it typically used?\n",
    "#Answer:\n",
    "#A lambda function is a small anonymous function.\n",
    "#A lambda function can take any number of arguments, but can only have one expression.    \n",
    "#the lambda keyword is used to define an anonymous function.\n",
    "\n",
    "#Syntax:\n",
    "# lambda arguments : expression\n",
    "\n",
    "#This function can have any number of arguments but only one expression, which is evaluated and returned.\n",
    "#One is free to use lambda functions wherever function objects are required.\n",
    "#You need to keep in your knowledge that lambda functions are syntactically restricted to a single expression.\n",
    "#It has various uses in particular fields of programming, besides other types of expressions in functions.\n",
    "\n",
    "#Example:\n",
    "sq = lambda x : x ** 2 \n",
    "\n",
    "sq(2)"
   ]
  },
  {
   "cell_type": "code",
   "execution_count": 82,
   "id": "305ecb53-7e34-4d3f-a6be-1937927725ca",
   "metadata": {},
   "outputs": [
    {
     "data": {
      "text/plain": [
       "27"
      ]
     },
     "execution_count": 82,
     "metadata": {},
     "output_type": "execute_result"
    }
   ],
   "source": [
    "cube_num = lambda x : x ** 3\n",
    "\n",
    "cube_num(3)"
   ]
  },
  {
   "cell_type": "code",
   "execution_count": 89,
   "id": "5d7a5746-db4d-4673-afbf-2498ba48ea94",
   "metadata": {},
   "outputs": [
    {
     "name": "stdout",
     "output_type": "stream",
     "text": [
      "[1, 4, 9, 16]\n"
     ]
    }
   ],
   "source": [
    "#9. Explain the purpose and usage of the `map()` function in Python.\n",
    "#Answer:\n",
    "#map() function returns a map object(which is an iterator) of the results,\n",
    "#after applying the given function to each item of a given iterable (list, tuple etc.)\n",
    "#Syntax :\n",
    "    #map(fun, iter)\n",
    "                #where,\n",
    "                #fun: It is a function to which map passes each element of given iterable.\n",
    "                #iter: It is iterable which is to be mapped.\n",
    "\n",
    "#You can pass one or more iterable to the map() function.\n",
    "#Returns: Returns a list of the results after applying the given function to each item of a given iterable (list, tuple etc.)\n",
    "\n",
    "#Example:\n",
    "def sq(x):\n",
    "    return x ** 2\n",
    "l= [1,2,3,4]\n",
    "\n",
    "result = map(sq, l)\n",
    "print(list(result))\n"
   ]
  },
  {
   "cell_type": "code",
   "execution_count": 90,
   "id": "b9125607-1eb8-4697-bc62-f341f91cb398",
   "metadata": {},
   "outputs": [
    {
     "name": "stdout",
     "output_type": "stream",
     "text": [
      "[1, 8, 27, 64]\n"
     ]
    }
   ],
   "source": [
    "#10. What is the difference between `map()`, `reduce()`, and `filter()` functions in Python?\n",
    "#Answer:\n",
    "\n",
    "#1.map():\n",
    "#map() function returns a map object(which is an iterator) of the results,\n",
    "#after applying the given function to each item of a given iterable (list, tuple etc.)\n",
    "#Syntax :\n",
    "    #map(fun, iter)\n",
    "                #where,\n",
    "                #fun: It is a function to which map passes each element of given iterable.\n",
    "                #iter: It is iterable which is to be mapped.\n",
    "                \n",
    "    \n",
    "#2.filter():\n",
    "#The filter() method filters the given sequence with the help of a function that tests each element in the sequence to be true or not. \n",
    "#The filter() method in Python has the following syntax:\n",
    "#Syntax: \n",
    "    #filter(function, sequence)\n",
    "                #where,\n",
    "                #function: function that tests if each element of a sequence is true or not.\n",
    "                #sequence: sequence which needs to be filtered, it can be sets, lists, tuples, or containers of any iterators.\n",
    "                #Returns: an iterator that is already filtered.\n",
    "                \n",
    "\n",
    "#3.reduce():\n",
    "#The reduce(fun,seq) function is used to apply a particular function passed in its argument to all of the list elements mentioned in the sequence passed along.\n",
    "#This function is defined in “functools” module.\n",
    "#Syntax:\n",
    "    #reduce(func,iterable)\n",
    "                #where,\n",
    "                #func is function\n",
    "                #iterable is a object that will be iterate\n",
    "                \n",
    "                \n",
    "\n",
    "#Example:\n",
    "#1.map():\n",
    "def cube_num(x):\n",
    "    return x ** 3\n",
    "l = [1,2,3,4]\n",
    "result = map(cube_num, l)\n",
    "print(list(result))\n"
   ]
  },
  {
   "cell_type": "code",
   "execution_count": 95,
   "id": "8d2d89f2-ed13-44e8-a64b-60d289f7c2ac",
   "metadata": {},
   "outputs": [],
   "source": [
    "#2.filter():\n",
    "\n",
    "def filter_vowels(char):\n",
    "    vowels = ['a', 'e', 'i', 'o', 'u']\n",
    "    if char in vowels:\n",
    "        return True\n",
    "    else:\n",
    "        return False\n"
   ]
  },
  {
   "cell_type": "code",
   "execution_count": 96,
   "id": "9c1db120-2aa0-4163-ab3e-87ec4d90cfe1",
   "metadata": {},
   "outputs": [
    {
     "data": {
      "text/plain": [
       "<filter at 0x7f1056051420>"
      ]
     },
     "execution_count": 96,
     "metadata": {},
     "output_type": "execute_result"
    }
   ],
   "source": [
    "sentence = \"hello world\"\n",
    "filtered_vowels = filter(filter_vowels, sentence)\n",
    "filtered_vowels"
   ]
  },
  {
   "cell_type": "code",
   "execution_count": 97,
   "id": "5ae95537-562f-4ffa-8e88-83e8dae0b5ca",
   "metadata": {},
   "outputs": [
    {
     "name": "stdout",
     "output_type": "stream",
     "text": [
      "['e', 'o', 'o']\n"
     ]
    }
   ],
   "source": [
    "print(list(filtered_vowels))"
   ]
  },
  {
   "cell_type": "code",
   "execution_count": 100,
   "id": "8997ecaa-47ab-4e3f-989f-bbb812401bb0",
   "metadata": {},
   "outputs": [
    {
     "data": {
      "text/plain": [
       "17"
      ]
     },
     "execution_count": 100,
     "metadata": {},
     "output_type": "execute_result"
    }
   ],
   "source": [
    "#3.reduce():\n",
    "from functools import reduce\n",
    "\n",
    "l = [1,2,2,4,3,5]\n",
    "reduce ( lambda x, y : x + y ,l)"
   ]
  },
  {
   "cell_type": "code",
   "execution_count": 5,
   "id": "77c81bb5-05ea-4d64-973a-c1af4c6bfafb",
   "metadata": {},
   "outputs": [
    {
     "data": {
      "text/plain": [
       "113"
      ]
     },
     "execution_count": 5,
     "metadata": {},
     "output_type": "execute_result"
    }
   ],
   "source": [
    "#11. Using pen & Paper write the internal mechanism for sum operation using  reduce function on this given list:[47,11,42,13]\n",
    "#(Attach paper image for this answer) in doc or colab notebook\n",
    "from functools import reduce\n",
    "given_list = [47,11,42,13]\n",
    "reduce(lambda x, y : x + y,given_list)"
   ]
  },
  {
   "cell_type": "markdown",
   "id": "17cdb3b1-dbba-4fd9-8280-6b889e9ddeaf",
   "metadata": {},
   "source": [
    "#Practical Questions:"
   ]
  },
  {
   "cell_type": "code",
   "execution_count": 101,
   "id": "c41c108b-7982-4cf7-b8c0-e6b19b4b9216",
   "metadata": {},
   "outputs": [
    {
     "data": {
      "text/plain": [
       "10"
      ]
     },
     "execution_count": 101,
     "metadata": {},
     "output_type": "execute_result"
    }
   ],
   "source": [
    "#1. Write a Python function that takes a list of numbers as input and returns the sum of all even numbers in the list.\n",
    "def sum_of_even_numbers(list_of_numbers):\n",
    "  sum_of_even = 0\n",
    "  for num in list_of_numbers:\n",
    "    if num % 2 == 0:\n",
    "      sum_of_even += num\n",
    "    else:\n",
    "      sum_of_even = 0\n",
    "  return sum_of_even\n",
    "\n",
    "list_of_numbers = [1,2,3,4,5,6,7,8,9,10]\n",
    "sum_of_even_numbers(list_of_numbers)\n"
   ]
  },
  {
   "cell_type": "code",
   "execution_count": 102,
   "id": "03c56699-1ef1-4f73-9dd5-9ba9328429f9",
   "metadata": {},
   "outputs": [
    {
     "data": {
      "text/plain": [
       "'dlrow olleh'"
      ]
     },
     "execution_count": 102,
     "metadata": {},
     "output_type": "execute_result"
    }
   ],
   "source": [
    "#2. Create a Python function that accepts a string and returns the reverse of that string.\n",
    "\n",
    "def reverse_string(string):\n",
    "  return string[::-1]\n",
    "\n",
    "string = \"hello world\"\n",
    "reverse_string(string)\n"
   ]
  },
  {
   "cell_type": "code",
   "execution_count": 103,
   "id": "9b83506e-2f8b-4dd2-a5bc-dbd879963bf7",
   "metadata": {},
   "outputs": [
    {
     "data": {
      "text/plain": [
       "[1, 4, 9, 16, 25, 36, 49, 64, 81, 100]"
      ]
     },
     "execution_count": 103,
     "metadata": {},
     "output_type": "execute_result"
    }
   ],
   "source": [
    "#3. Implement a Python function that takes a list of integers and returns a new list containing the squares of each number.\n",
    "\n",
    "def sq_of_num(list_of_int):\n",
    "  new_list = []\n",
    "  for num in list_of_int:\n",
    "    new_list.append(num ** 2)\n",
    "  return new_list\n",
    "\n",
    "list_of_int = [1,2,3,4,5,6,7,8,9,10]\n",
    "sq_of_num(list_of_int)\n"
   ]
  },
  {
   "cell_type": "code",
   "execution_count": 1,
   "id": "544f2ebc-0380-411d-b7ff-a6266e1b65c5",
   "metadata": {},
   "outputs": [
    {
     "name": "stdout",
     "output_type": "stream",
     "text": [
      "18 is not a prime number\n"
     ]
    }
   ],
   "source": [
    "#4. Write a Python function that checks if a given number is prime or not from 1 to 200.\n",
    "def prime_num(num):\n",
    "  if num < 2:\n",
    "    return False\n",
    "  for i in range(2, int(num ** 0.5) + 1):\n",
    "    if num % i == 0:\n",
    "      return False\n",
    "  return True\n",
    "\n",
    "num = 18\n",
    "if prime_num(num):\n",
    "  print(f\"{num} is a prime number\")\n",
    "else:\n",
    "  print(f\"{num} is not a prime number\")\n",
    "\n"
   ]
  },
  {
   "cell_type": "code",
   "execution_count": 2,
   "id": "9387233f-836e-4d68-8bd1-f3ed4657252a",
   "metadata": {},
   "outputs": [
    {
     "data": {
      "text/plain": [
       "[0, 1, 1, 2, 3, 5, 8, 13, 21, 34]"
      ]
     },
     "execution_count": 2,
     "metadata": {},
     "output_type": "execute_result"
    }
   ],
   "source": [
    "#5. Create an iterator class in Python that generates the Fibonacci sequence up to a specified number of terms.\n",
    "\n",
    "fib = lambda n: n if n<=1 else fib(n-1) + fib(n-2)\n",
    "[fib(i) for i in range(10)]"
   ]
  },
  {
   "cell_type": "code",
   "execution_count": 3,
   "id": "87e88746-2c57-4c95-9b83-acfe963d62ad",
   "metadata": {},
   "outputs": [
    {
     "name": "stdout",
     "output_type": "stream",
     "text": [
      "1\n",
      "2\n",
      "4\n",
      "8\n",
      "16\n",
      "32\n"
     ]
    }
   ],
   "source": [
    "#6. Write a generator function in Python that yields the powers of 2 up to a given exponent.\n",
    "def power_of_2(exponent):\n",
    "  for i in range(exponent + 1):\n",
    "    yield 2 ** i\n",
    "\n",
    "for power in power_of_2(5):\n",
    "  print(power)\n",
    "\n"
   ]
  },
  {
   "cell_type": "code",
   "execution_count": 8,
   "id": "a2094a95-2768-4189-ade6-aa42a3d878cf",
   "metadata": {},
   "outputs": [],
   "source": [
    "#7. Implement a generator function that reads a file line by line and yields each line as a string.\n",
    "def read_file(file_path):\n",
    "  with open(file_path, 'r') as file:\n",
    "    for line in file:\n",
    "       yield line\n",
    "\n",
    "file_path = \"C:Users/dimpa/Desktop/example.txt\"\n"
   ]
  },
  {
   "cell_type": "code",
   "execution_count": 9,
   "id": "3070192a-cd0d-4903-980d-27a4a1b534fc",
   "metadata": {},
   "outputs": [],
   "source": [
    "gen = read_file(\"C:Users/dimpa/Desktop/example.txt\")"
   ]
  },
  {
   "cell_type": "code",
   "execution_count": 4,
   "id": "651d3817-7c87-411b-ac1a-87b19cd5dc71",
   "metadata": {},
   "outputs": [
    {
     "data": {
      "text/plain": [
       "[(3, 1), (1, 2), (7, 3), (5, 4)]"
      ]
     },
     "execution_count": 4,
     "metadata": {},
     "output_type": "execute_result"
    }
   ],
   "source": [
    "#8. Use a lambda function in Python to sort a list of tuples based on the second element of each tuple.\n",
    "x = [(1,2), (3,1), (5,4), (7,3)]\n",
    "sorted(x,key = lambda x : x[1])\n"
   ]
  },
  {
   "cell_type": "code",
   "execution_count": 6,
   "id": "3365fff6-dd30-4b91-83e2-abaf51ff6619",
   "metadata": {},
   "outputs": [
    {
     "name": "stdout",
     "output_type": "stream",
     "text": [
      "[89.6, 104.0, 113.0, 102.2, 95.0]\n"
     ]
    }
   ],
   "source": [
    "#9. Write a Python program that uses `map()` to convert a list of temperatures from Celsius to Fahrenheit.\n",
    "\n",
    "def celsius_to_fahrenheit(celsius):\n",
    "     return (celsius * 9/5) + 32\n",
    "temperatures_celsius = [32, 40, 45, 39, 35]\n",
    "temperatures_fahrenheit = list(map(celsius_to_fahrenheit, temperatures_celsius))    #use of map() \n",
    "print(temperatures_fahrenheit)"
   ]
  },
  {
   "cell_type": "code",
   "execution_count": 6,
   "id": "2593939d-7947-4b66-942a-7137672983af",
   "metadata": {},
   "outputs": [
    {
     "name": "stdout",
     "output_type": "stream",
     "text": [
      "hll wrld\n"
     ]
    }
   ],
   "source": [
    "#10. Create a Python program that uses `filter()` to remove all the vowels from a given string.\n",
    "\n",
    "string = \"hello world\"\n",
    "vowels = \"aeiouAEIOU\"\n",
    "filtered_string = filter(lambda x : x not in vowels,string)\n",
    "print(\"\".join(filtered_string))"
   ]
  },
  {
   "cell_type": "code",
   "execution_count": 7,
   "id": "ee0ac67a-7835-498b-980e-6a4298919b51",
   "metadata": {},
   "outputs": [
    {
     "name": "stdout",
     "output_type": "stream",
     "text": [
      "(34587, 173.8)\n",
      "(98762, 294.0)\n",
      "(77226, 108.85000000000001)\n",
      "(88112, 84.97)\n"
     ]
    }
   ],
   "source": [
    "#11. Imagine an accounting routine used in a book shop. It works on a list with sublists, which look like this:\n",
    "#Write a Python program, which returns a list with 2-tuples. Each tuple consists of the order number and the product of the price per item and the quantity. The product should be increased by 10,- € if the value of the order is smaller than 100,00 €.\n",
    "#Write a Python program using lambda and map.\n",
    "\n",
    "order_number = [34587, 98762, 77226, 88112]\n",
    "Book_titel_and_author = [[\"Learning Python,Mark Lutz\"],[\"Programming Python,Mark Lutz\"],[\"Head First Python,Paul Barry\"],[\"Einfuhrung in Python3, Bernd Klein\"]]\n",
    "Quantity = [4, 5, 3, 3]\n",
    "Price_per_item = [40.95, 56.80, 32.95, 24.99]\n",
    "\n",
    "\n",
    "for order_number, book_info, quantity, price_per_item in zip(order_number, Book_titel_and_author, Quantity, Price_per_item):\n",
    "    product = quantity * price_per_item\n",
    "    if product < 10000:\n",
    "        product += 10\n",
    "    print((order_number, product))\n",
    "\n"
   ]
  },
  {
   "cell_type": "code",
   "execution_count": null,
   "id": "0e18a063-f931-43dd-bef4-b9aa8bb0ba86",
   "metadata": {},
   "outputs": [],
   "source": []
  }
 ],
 "metadata": {
  "kernelspec": {
   "display_name": "Python 3 (ipykernel)",
   "language": "python",
   "name": "python3"
  },
  "language_info": {
   "codemirror_mode": {
    "name": "ipython",
    "version": 3
   },
   "file_extension": ".py",
   "mimetype": "text/x-python",
   "name": "python",
   "nbconvert_exporter": "python",
   "pygments_lexer": "ipython3",
   "version": "3.10.8"
  }
 },
 "nbformat": 4,
 "nbformat_minor": 5
}
