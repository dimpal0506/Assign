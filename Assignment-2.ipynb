{
 "cells": [
  {
   "cell_type": "code",
   "execution_count": 1,
   "id": "36788f7c-c5bd-4f7e-8ce6-d526b4c5cc60",
   "metadata": {},
   "outputs": [],
   "source": [
    "#1. Discuss string slicing and provide examples.\n",
    "#Answer:\n",
    "#It is the extraction of a part of a string, list, or tuples.\n",
    "#It enables users to access the specific range of elements by mentioning their indices\n",
    "#Syntax: object[start:stop:step]\n",
    "        #where, start = refers to from where the slicing start\n",
    "                #stop = refers to end of slicing\n",
    "                #step = skipping point\n",
    "\n",
    "#Examples:"
   ]
  },
  {
   "cell_type": "code",
   "execution_count": 2,
   "id": "cc2cd636-4813-4c26-ae1f-4b4332e28b5d",
   "metadata": {},
   "outputs": [
    {
     "data": {
      "text/plain": [
       "'I am a Student'"
      ]
     },
     "execution_count": 2,
     "metadata": {},
     "output_type": "execute_result"
    }
   ],
   "source": [
    "string = \"I am a Student\"\n",
    "string"
   ]
  },
  {
   "cell_type": "code",
   "execution_count": 4,
   "id": "e6093c6c-9681-4ed8-8763-a623636079ff",
   "metadata": {},
   "outputs": [
    {
     "data": {
      "text/plain": [
       "' am '"
      ]
     },
     "execution_count": 4,
     "metadata": {},
     "output_type": "execute_result"
    }
   ],
   "source": [
    "string[1:5]      #here the string start from index 1 to 4, whereas 5 is excludede"
   ]
  },
  {
   "cell_type": "code",
   "execution_count": 5,
   "id": "f46a5497-fb34-4cd1-b237-7c88f2cdbe44",
   "metadata": {},
   "outputs": [
    {
     "data": {
      "text/plain": [
       "'Student'"
      ]
     },
     "execution_count": 5,
     "metadata": {},
     "output_type": "execute_result"
    }
   ],
   "source": [
    "string[7:14]     #here the string start from index 7 to 13, whereas 14 is excluded"
   ]
  },
  {
   "cell_type": "code",
   "execution_count": 9,
   "id": "bf4df5c6-9071-4b0b-88c2-7417bc1592ac",
   "metadata": {},
   "outputs": [
    {
     "data": {
      "text/plain": [
       "'I am a Student'"
      ]
     },
     "execution_count": 9,
     "metadata": {},
     "output_type": "execute_result"
    }
   ],
   "source": [
    "string[0:]      #here the string start from index 0 to its end "
   ]
  },
  {
   "cell_type": "code",
   "execution_count": 10,
   "id": "fc1b919d-35aa-42c9-a1c8-e581cfe89620",
   "metadata": {},
   "outputs": [
    {
     "data": {
      "text/plain": [
       "'Shrikant'"
      ]
     },
     "execution_count": 10,
     "metadata": {},
     "output_type": "execute_result"
    }
   ],
   "source": [
    "#here is an another string\n",
    "name = \"Shrikant\"\n",
    "name"
   ]
  },
  {
   "cell_type": "code",
   "execution_count": 13,
   "id": "c817789c-1c8f-4532-9055-4ac14e0e805c",
   "metadata": {},
   "outputs": [
    {
     "data": {
      "text/plain": [
       "'Srkn'"
      ]
     },
     "execution_count": 13,
     "metadata": {},
     "output_type": "execute_result"
    }
   ],
   "source": [
    "name[0::2]     #here the string start form 0 index to its end with skipping 1 letter."
   ]
  },
  {
   "cell_type": "code",
   "execution_count": 14,
   "id": "ac31e2a1-2fc1-4ac1-97c5-3029b983377d",
   "metadata": {},
   "outputs": [
    {
     "data": {
      "text/plain": [
       "'rikan'"
      ]
     },
     "execution_count": 14,
     "metadata": {},
     "output_type": "execute_result"
    }
   ],
   "source": [
    "name[2:7:1]     #here the string start from index 2 to 6 with doesn't skip any letter"
   ]
  },
  {
   "cell_type": "code",
   "execution_count": 15,
   "id": "e5037e3a-20d0-4d7c-afe2-a4e104d5ece4",
   "metadata": {},
   "outputs": [
    {
     "data": {
      "text/plain": [
       "'shivaji nagar, mumbai'"
      ]
     },
     "execution_count": 15,
     "metadata": {},
     "output_type": "execute_result"
    }
   ],
   "source": [
    "#another string\n",
    "address = \"shivaji nagar, mumbai\"\n",
    "address"
   ]
  },
  {
   "cell_type": "code",
   "execution_count": 16,
   "id": "a182645e-ce8d-49ed-ae85-6c67a8385587",
   "metadata": {},
   "outputs": [
    {
     "data": {
      "text/plain": [
       "'ha '"
      ]
     },
     "execution_count": 16,
     "metadata": {},
     "output_type": "execute_result"
    }
   ],
   "source": [
    "address[1:9:3]     #here the string start from 1 index to 8 with skipping 2 letters"
   ]
  },
  {
   "cell_type": "code",
   "execution_count": 17,
   "id": "a9cbebf2-f974-4699-9736-a9d7b2557c68",
   "metadata": {},
   "outputs": [
    {
     "data": {
      "text/plain": [
       "'shivaji '"
      ]
     },
     "execution_count": 17,
     "metadata": {},
     "output_type": "execute_result"
    }
   ],
   "source": [
    "address[0:8]       #here the string start from 0 index to 7 "
   ]
  },
  {
   "cell_type": "code",
   "execution_count": 18,
   "id": "3b18e61e-4d45-4434-b5a0-5cb2ed4b13e7",
   "metadata": {},
   "outputs": [],
   "source": [
    "#2. Explain the key features of lists in Python.\n",
    "#Answer:\n",
    "#Lists are the ordered collection of items\n",
    "#It store everything.\n",
    "#Lists contain heterogenous data means it conatins data of different datatypes whether its string, int, float, boolean, etc\n",
    "#Lists supports Indexing means we can access any item in list using their index.\n",
    "#Index can br positive or negative.\n",
    "#One of the main key feature of the list is, Lists are mutable.\n",
    "#Mutable means we can update the list by adding, removing, and changing the item in list after its creation.\n",
    "#Lists are made using [] (square braces).\n",
    "#Here are some examples of lists:"
   ]
  },
  {
   "cell_type": "code",
   "execution_count": 19,
   "id": "4e62cbf5-1c2e-4de0-b9dc-42721184d935",
   "metadata": {},
   "outputs": [
    {
     "data": {
      "text/plain": [
       "[1, 2, True, 'Hello', 9.55, 'apple']"
      ]
     },
     "execution_count": 19,
     "metadata": {},
     "output_type": "execute_result"
    }
   ],
   "source": [
    "list = [1, 2, True, \"Hello\", 9.55, \"apple\"]      #creation of list which contains the heterogeous data\n",
    "list"
   ]
  },
  {
   "cell_type": "code",
   "execution_count": 21,
   "id": "703a193c-97b2-4cc3-af69-f909e85bcde5",
   "metadata": {},
   "outputs": [
    {
     "data": {
      "text/plain": [
       "1"
      ]
     },
     "execution_count": 21,
     "metadata": {},
     "output_type": "execute_result"
    }
   ],
   "source": [
    "list[0]                 #accessing the item using its index"
   ]
  },
  {
   "cell_type": "code",
   "execution_count": 22,
   "id": "407f6be0-1950-48b6-8e39-ebfe33f4cb75",
   "metadata": {},
   "outputs": [
    {
     "data": {
      "text/plain": [
       "9.55"
      ]
     },
     "execution_count": 22,
     "metadata": {},
     "output_type": "execute_result"
    }
   ],
   "source": [
    "list[4]"
   ]
  },
  {
   "cell_type": "code",
   "execution_count": 24,
   "id": "342c2641-c306-458f-ac3d-438a185a6a34",
   "metadata": {},
   "outputs": [
    {
     "data": {
      "text/plain": [
       "'Hello'"
      ]
     },
     "execution_count": 24,
     "metadata": {},
     "output_type": "execute_result"
    }
   ],
   "source": [
    "list[-3]               #accessing item using negative index"
   ]
  },
  {
   "cell_type": "code",
   "execution_count": 26,
   "id": "b523050d-209d-4b3f-80a1-53736583289c",
   "metadata": {},
   "outputs": [
    {
     "data": {
      "text/plain": [
       "['Mango', 2, True, 'Hello', 9.55, 'apple']"
      ]
     },
     "execution_count": 26,
     "metadata": {},
     "output_type": "execute_result"
    }
   ],
   "source": [
    "list[0] = \"Mango\" #changing the item in the list\n",
    "list"
   ]
  },
  {
   "cell_type": "code",
   "execution_count": 27,
   "id": "ff0dcb9c-cb11-4b76-aa68-77508f0d2f6c",
   "metadata": {},
   "outputs": [
    {
     "data": {
      "text/plain": [
       "['Mango', 2, True, 'Hello', 'Bag', 'apple']"
      ]
     },
     "execution_count": 27,
     "metadata": {},
     "output_type": "execute_result"
    }
   ],
   "source": [
    "list[4] = \"Bag\"\n",
    "list"
   ]
  },
  {
   "cell_type": "code",
   "execution_count": 29,
   "id": "02830c60-a3d0-4d90-a8c8-d4c9bd471a7d",
   "metadata": {},
   "outputs": [
    {
     "data": {
      "text/plain": [
       "['Mango', 2, True, 'Hello', 'Bag', 'apple', False, False]"
      ]
     },
     "execution_count": 29,
     "metadata": {},
     "output_type": "execute_result"
    }
   ],
   "source": [
    "list.append(False)     #adding item to the list\n",
    "list"
   ]
  },
  {
   "cell_type": "code",
   "execution_count": null,
   "id": "3ca8f510-3ad9-4a99-a769-437dfb7c1b18",
   "metadata": {},
   "outputs": [],
   "source": [
    "#3. Describe how to access, modify, and delete elements in a list with examples.\n",
    "#Answer:\n",
    "#Lists are the ordered collection of items.\n",
    "#Here are some example of accessing, modifying, and deleting elements in a list. "
   ]
  },
  {
   "cell_type": "code",
   "execution_count": 30,
   "id": "5725ef54-1566-4307-8625-1f6ca9c830e9",
   "metadata": {},
   "outputs": [
    {
     "data": {
      "text/plain": [
       "['Apples', 'Banana', 'Mango', 'Books', 'Grocery']"
      ]
     },
     "execution_count": 30,
     "metadata": {},
     "output_type": "execute_result"
    }
   ],
   "source": [
    "Shopping_list = [\"Apples\", \"Banana\", \"Mango\", \"Books\", \"Grocery\"]\n",
    "Shopping_list"
   ]
  },
  {
   "cell_type": "code",
   "execution_count": 31,
   "id": "6c2b8265-cf25-43d4-8dd8-7fbf15306aa3",
   "metadata": {},
   "outputs": [
    {
     "data": {
      "text/plain": [
       "'Banana'"
      ]
     },
     "execution_count": 31,
     "metadata": {},
     "output_type": "execute_result"
    }
   ],
   "source": [
    "#accessing the elements from the list\n",
    "Shopping_list[1]"
   ]
  },
  {
   "cell_type": "code",
   "execution_count": 33,
   "id": "dbde1ea0-c038-46d7-a1c5-2f6b07aaf9ee",
   "metadata": {},
   "outputs": [
    {
     "data": {
      "text/plain": [
       "'Grocery'"
      ]
     },
     "execution_count": 33,
     "metadata": {},
     "output_type": "execute_result"
    }
   ],
   "source": [
    "Shopping_list[4]"
   ]
  },
  {
   "cell_type": "code",
   "execution_count": 34,
   "id": "9f124722-9c1f-438a-8a1d-8ab1cc2eba6f",
   "metadata": {},
   "outputs": [
    {
     "data": {
      "text/plain": [
       "'Grocery'"
      ]
     },
     "execution_count": 34,
     "metadata": {},
     "output_type": "execute_result"
    }
   ],
   "source": [
    "Shopping_list[-1]        #accessing using negative index"
   ]
  },
  {
   "cell_type": "code",
   "execution_count": 35,
   "id": "45ac880a-10fd-4fd9-beff-0557ed9f2ccf",
   "metadata": {},
   "outputs": [
    {
     "data": {
      "text/plain": [
       "'Mango'"
      ]
     },
     "execution_count": 35,
     "metadata": {},
     "output_type": "execute_result"
    }
   ],
   "source": [
    "Shopping_list[-3]"
   ]
  },
  {
   "cell_type": "code",
   "execution_count": 36,
   "id": "f541f4d4-a74e-4948-bc71-70147bdef240",
   "metadata": {},
   "outputs": [
    {
     "data": {
      "text/plain": [
       "['Apples', 'Gauva', 'Mango', 'Books', 'Grocery']"
      ]
     },
     "execution_count": 36,
     "metadata": {},
     "output_type": "execute_result"
    }
   ],
   "source": [
    "#modifying the list\n",
    "Shopping_list[1] = \"Gauva\"\n",
    "Shopping_list"
   ]
  },
  {
   "cell_type": "code",
   "execution_count": 37,
   "id": "d90a30bb-1f0c-4e92-b2d0-fa189ed6db26",
   "metadata": {},
   "outputs": [
    {
     "data": {
      "text/plain": [
       "['Apples', 'Gauva', 'Mango', 'Cherry', 'Grocery']"
      ]
     },
     "execution_count": 37,
     "metadata": {},
     "output_type": "execute_result"
    }
   ],
   "source": [
    "Shopping_list[3] = \"Cherry\"\n",
    "Shopping_list"
   ]
  },
  {
   "cell_type": "code",
   "execution_count": 38,
   "id": "ea99c5bf-a3f0-4c3f-b72f-6f8df3a2749c",
   "metadata": {},
   "outputs": [
    {
     "data": {
      "text/plain": [
       "['Apples', 'Gauva', 2, 'Cherry', 'Grocery']"
      ]
     },
     "execution_count": 38,
     "metadata": {},
     "output_type": "execute_result"
    }
   ],
   "source": [
    "Shopping_list[2] = 2\n",
    "Shopping_list"
   ]
  },
  {
   "cell_type": "code",
   "execution_count": 40,
   "id": "399345b7-ba53-46f2-bfb6-7636b3c5283e",
   "metadata": {},
   "outputs": [
    {
     "data": {
      "text/plain": [
       "['Apples', 'Gauva', 2, 'Cherry', 'Grocery']"
      ]
     },
     "execution_count": 40,
     "metadata": {},
     "output_type": "execute_result"
    }
   ],
   "source": [
    "Shopping_list"
   ]
  },
  {
   "cell_type": "code",
   "execution_count": 51,
   "id": "05b148fb-9b42-444d-8fe6-913a0d42de80",
   "metadata": {},
   "outputs": [
    {
     "data": {
      "text/plain": [
       "['Apples', 'Gauva', 'Cherry', 'Grocery']"
      ]
     },
     "execution_count": 51,
     "metadata": {},
     "output_type": "execute_result"
    }
   ],
   "source": [
    "#deleting elements in a list.\n",
    "Shopping_list = ['Apples', 'Gauva', 'Cherry', 'Grocery']\n",
    "Shopping_list"
   ]
  },
  {
   "cell_type": "code",
   "execution_count": 52,
   "id": "150e3a77-5dff-44ab-8187-c3d06c93521f",
   "metadata": {},
   "outputs": [
    {
     "data": {
      "text/plain": [
       "['Gauva', 'Cherry', 'Grocery']"
      ]
     },
     "execution_count": 52,
     "metadata": {},
     "output_type": "execute_result"
    }
   ],
   "source": [
    "Shopping_list.remove(\"Apples\")    #remove the specific item in list by name\n",
    "Shopping_list"
   ]
  },
  {
   "cell_type": "code",
   "execution_count": 53,
   "id": "f0e94cee-71dc-408a-834a-df4af6fc1e34",
   "metadata": {},
   "outputs": [
    {
     "data": {
      "text/plain": [
       "['Gauva', 'Cherry']"
      ]
     },
     "execution_count": 53,
     "metadata": {},
     "output_type": "execute_result"
    }
   ],
   "source": [
    "Shopping_list.pop()            #by default remove the last item in list\n",
    "Shopping_list"
   ]
  },
  {
   "cell_type": "code",
   "execution_count": 54,
   "id": "82aaa058-7359-45f7-8a28-c707fdaaf62d",
   "metadata": {},
   "outputs": [
    {
     "data": {
      "text/plain": [
       "['Gauva']"
      ]
     },
     "execution_count": 54,
     "metadata": {},
     "output_type": "execute_result"
    }
   ],
   "source": [
    "Shopping_list.pop(1)           #remove the specific item by index\n",
    "Shopping_list"
   ]
  },
  {
   "cell_type": "code",
   "execution_count": 56,
   "id": "35722351-b517-4b9c-a64d-99c262540a68",
   "metadata": {},
   "outputs": [
    {
     "data": {
      "text/plain": [
       "[]"
      ]
     },
     "execution_count": 56,
     "metadata": {},
     "output_type": "execute_result"
    }
   ],
   "source": [
    "Shopping_list.clear()         #clear the item in the list and returns empty list\n",
    "Shopping_list"
   ]
  },
  {
   "cell_type": "code",
   "execution_count": 57,
   "id": "0eae0e60-9a73-4520-8bed-f1f2c765005a",
   "metadata": {},
   "outputs": [],
   "source": [
    "#4. Compare and contrast tuples and lists with examples.\n",
    "#Answer:\n",
    "#i) Lists: #Lists are the ordered collection of items.\n",
    "           #It store everything.\n",
    "           #Lists contain heterogenous data means it conatins data of different datatypes whether its string, int, float, boolean, etc\n",
    "           #Lists supports Indexing means we can access any item in list using their index.\n",
    "           #Index can br positive or negative.\n",
    "           #One of the main key feature of the list is, Lists are mutable.\n",
    "           #Mutable means we can update the list by adding, removing, and changing the item in list after its creation.\n",
    "           #Lists are made using [] (square braces).\n",
    "            \n",
    "#ii) Tuples: #Tuples are the ordered collection of items.\n",
    "             #Like lists, Its also stores everything.\n",
    "             #Like Lists, its also contains heterogenous data means it can contains the data of different datatypes.\n",
    "             #It also supports indexing means can access elements using its index.\n",
    "             #Index can be positive or negative.\n",
    "             #But there is one difference between the list and tuple i.e. lists are mutable whereas Tuples are immutable.\n",
    "             #Immuatable means we cannot modify the tuple once it is created.\n",
    "             #Tuples are made using () (Simple braces).\n",
    "            \n",
    "#Here, are some example of lists and tuples:"
   ]
  },
  {
   "cell_type": "code",
   "execution_count": 59,
   "id": "0f0136c6-0ae4-47aa-9057-5f23570ecf5c",
   "metadata": {},
   "outputs": [
    {
     "data": {
      "text/plain": [
       "[1, 2, 3, True, 'money', 'time', 8.65]"
      ]
     },
     "execution_count": 59,
     "metadata": {},
     "output_type": "execute_result"
    }
   ],
   "source": [
    "#Examples of lists:\n",
    "List = [ 1 ,2, 3, True, \"money\", \"time\", 8.65]      #creating of list\n",
    "List"
   ]
  },
  {
   "cell_type": "code",
   "execution_count": 60,
   "id": "3efbd794-35ab-49f1-b85b-49ad9d634d07",
   "metadata": {},
   "outputs": [
    {
     "data": {
      "text/plain": [
       "True"
      ]
     },
     "execution_count": 60,
     "metadata": {},
     "output_type": "execute_result"
    }
   ],
   "source": [
    "List[3]      #accessing element from list"
   ]
  },
  {
   "cell_type": "code",
   "execution_count": 61,
   "id": "a6bee134-4ea2-48b3-b864-00f23ddd730e",
   "metadata": {},
   "outputs": [
    {
     "data": {
      "text/plain": [
       "'time'"
      ]
     },
     "execution_count": 61,
     "metadata": {},
     "output_type": "execute_result"
    }
   ],
   "source": [
    "List[-2]    #accessing element using negative index "
   ]
  },
  {
   "cell_type": "code",
   "execution_count": 63,
   "id": "80ece3f7-7b40-43d5-a1df-9e5864d8563d",
   "metadata": {},
   "outputs": [
    {
     "data": {
      "text/plain": [
       "[1, 'cars', 3, True, 'money', 'time', 8.65]"
      ]
     },
     "execution_count": 63,
     "metadata": {},
     "output_type": "execute_result"
    }
   ],
   "source": [
    "List[1] = \"cars\"    #modifying the list\n",
    "List"
   ]
  },
  {
   "cell_type": "code",
   "execution_count": 65,
   "id": "a2365afe-6e88-4f7f-a1c3-39c54fac24c4",
   "metadata": {},
   "outputs": [
    {
     "data": {
      "text/plain": [
       "(1, 3, 5, 'fruits', 'vegetables', 9.432)"
      ]
     },
     "execution_count": 65,
     "metadata": {},
     "output_type": "execute_result"
    }
   ],
   "source": [
    "#Examples of Tuples:\n",
    "Tuple = (1, 3, 5, \"fruits\", \"vegetables\", 9.432)       #creation of tuple\n",
    "Tuple"
   ]
  },
  {
   "cell_type": "code",
   "execution_count": 66,
   "id": "21918b79-073f-4c70-85b7-7d70e37bc680",
   "metadata": {},
   "outputs": [
    {
     "data": {
      "text/plain": [
       "'fruits'"
      ]
     },
     "execution_count": 66,
     "metadata": {},
     "output_type": "execute_result"
    }
   ],
   "source": [
    "Tuple[3]           #accessing element using index from tuple"
   ]
  },
  {
   "cell_type": "code",
   "execution_count": 67,
   "id": "9f3bf3ef-7897-4aca-a4dd-1bcc51125c4f",
   "metadata": {},
   "outputs": [
    {
     "data": {
      "text/plain": [
       "9.432"
      ]
     },
     "execution_count": 67,
     "metadata": {},
     "output_type": "execute_result"
    }
   ],
   "source": [
    "Tuple[-1]         #accessing element using negative index"
   ]
  },
  {
   "cell_type": "code",
   "execution_count": 68,
   "id": "e3dddd96-ba02-43c0-9d57-3c6607a502e5",
   "metadata": {},
   "outputs": [
    {
     "ename": "TypeError",
     "evalue": "'tuple' object does not support item assignment",
     "output_type": "error",
     "traceback": [
      "\u001b[0;31m---------------------------------------------------------------------------\u001b[0m",
      "\u001b[0;31mTypeError\u001b[0m                                 Traceback (most recent call last)",
      "Cell \u001b[0;32mIn[68], line 1\u001b[0m\n\u001b[0;32m----> 1\u001b[0m \u001b[43mTuple\u001b[49m\u001b[43m[\u001b[49m\u001b[38;5;241;43m3\u001b[39;49m\u001b[43m]\u001b[49m \u001b[38;5;241m=\u001b[39m \u001b[38;5;124m\"\u001b[39m\u001b[38;5;124mhello\u001b[39m\u001b[38;5;124m\"\u001b[39m\n",
      "\u001b[0;31mTypeError\u001b[0m: 'tuple' object does not support item assignment"
     ]
    }
   ],
   "source": [
    "Tuple[3] = \"hello\"    #we cannot modify the tuple >>> because they are immutable"
   ]
  },
  {
   "cell_type": "code",
   "execution_count": 69,
   "id": "1ab47093-0fac-494c-8296-a855d7ea7cfd",
   "metadata": {},
   "outputs": [],
   "source": [
    "#5. Describe the key features of sets and provide examples of their use.\n",
    "#Answer:\n",
    "#Sets are unordered collection of unique items.\n",
    "#Sets doesn't allow duplicate elements.\n",
    "#Sets are unordered that's why indexing will not work here.\n",
    "#Sets inside set must be immuatble.\n",
    "#Sets doesn't support the slicing.\n",
    "#Sets are created using the {} (curly braces).\n",
    "\n",
    "#Here are some example of their uses:"
   ]
  },
  {
   "cell_type": "code",
   "execution_count": 83,
   "id": "f28cae25-3a1b-4b07-974d-189160ce4a2a",
   "metadata": {},
   "outputs": [
    {
     "data": {
      "text/plain": [
       "{1, 2, 3, 4, 5}"
      ]
     },
     "execution_count": 83,
     "metadata": {},
     "output_type": "execute_result"
    }
   ],
   "source": [
    "my_set = { 1, 1, 3, 4, 2, 4, 5, 4}         #creating set >> it removes duplicatesmy\n",
    "my_set"
   ]
  },
  {
   "cell_type": "code",
   "execution_count": 73,
   "id": "917e2d2f-a3f5-4f76-85c6-1fce9c5541cb",
   "metadata": {},
   "outputs": [
    {
     "data": {
      "text/plain": [
       "set"
      ]
     },
     "execution_count": 73,
     "metadata": {},
     "output_type": "execute_result"
    }
   ],
   "source": [
    "type(my_set)"
   ]
  },
  {
   "cell_type": "code",
   "execution_count": 81,
   "id": "8dc1fab4-6672-49b5-bb0d-0f9e1642485f",
   "metadata": {},
   "outputs": [
    {
     "data": {
      "text/plain": [
       "{1, 2, 3, 4, 5, 'hello'}"
      ]
     },
     "execution_count": 81,
     "metadata": {},
     "output_type": "execute_result"
    }
   ],
   "source": [
    "my_set.add(\"hello\")           #adding element in set\n",
    "my_set"
   ]
  },
  {
   "cell_type": "code",
   "execution_count": 82,
   "id": "2bea54d6-9107-4a39-a6ff-602a26dcee1a",
   "metadata": {},
   "outputs": [
    {
     "data": {
      "text/plain": [
       "{1, 2, 3, 4, 5}"
      ]
     },
     "execution_count": 82,
     "metadata": {},
     "output_type": "execute_result"
    }
   ],
   "source": [
    "my_set.remove(\"hello\")     #remove element from set\n",
    "my_set"
   ]
  },
  {
   "cell_type": "code",
   "execution_count": 85,
   "id": "31378a4a-2f65-4882-a601-d96282d710e2",
   "metadata": {},
   "outputs": [
    {
     "data": {
      "text/plain": [
       "{1, 2, 3, 4, 5, 'd', 'l', 'o', 'r', 'w'}"
      ]
     },
     "execution_count": 85,
     "metadata": {},
     "output_type": "execute_result"
    }
   ],
   "source": [
    "my_set.update(\"world\")       #updating set\n",
    "my_set"
   ]
  },
  {
   "cell_type": "code",
   "execution_count": 87,
   "id": "14d79a79-7b2d-49e7-9dbf-6ef0e4a1f887",
   "metadata": {},
   "outputs": [
    {
     "data": {
      "text/plain": [
       "set()"
      ]
     },
     "execution_count": 87,
     "metadata": {},
     "output_type": "execute_result"
    }
   ],
   "source": [
    "my_set.clear()      #clear the set and returns the empty set\n",
    "my_set"
   ]
  },
  {
   "cell_type": "code",
   "execution_count": 3,
   "id": "12ccfbdb-9cde-40c1-8a1c-949f035cd7f6",
   "metadata": {},
   "outputs": [
    {
     "data": {
      "text/plain": [
       "{1, 2, 3, 4, 5, 6, 7}"
      ]
     },
     "execution_count": 3,
     "metadata": {},
     "output_type": "execute_result"
    }
   ],
   "source": [
    "# Example of set opeartions\n",
    "s1 = {1, 3, 2, 4, 5, 2, 6, 7, 6, 7, 5}\n",
    "s1 "
   ]
  },
  {
   "cell_type": "code",
   "execution_count": 4,
   "id": "8ddc78e6-99a3-44fb-86a8-b4a2f10895b3",
   "metadata": {},
   "outputs": [
    {
     "data": {
      "text/plain": [
       "{0, 1, 2, 3, 5, 6, 7, 8, 9, 10, 12}"
      ]
     },
     "execution_count": 4,
     "metadata": {},
     "output_type": "execute_result"
    }
   ],
   "source": [
    "s2 = {3, 5, 6, 2, 7, 0, 9, 8, 10, 12, 1}\n",
    "s2"
   ]
  },
  {
   "cell_type": "code",
   "execution_count": 5,
   "id": "213d11a9-b642-4cb7-bb5f-8f6a893841b4",
   "metadata": {},
   "outputs": [
    {
     "data": {
      "text/plain": [
       "{0, 1, 2, 3, 4, 5, 6, 7, 8, 9, 10, 12}"
      ]
     },
     "execution_count": 5,
     "metadata": {},
     "output_type": "execute_result"
    }
   ],
   "source": [
    "#Union of sets >> returns the overall elements of both sets except duplicates\n",
    "s1 | s2"
   ]
  },
  {
   "cell_type": "code",
   "execution_count": 6,
   "id": "c41d9051-ca69-4732-8aa8-e01f3323574b",
   "metadata": {},
   "outputs": [
    {
     "data": {
      "text/plain": [
       "{1, 2, 3, 5, 6, 7}"
      ]
     },
     "execution_count": 6,
     "metadata": {},
     "output_type": "execute_result"
    }
   ],
   "source": [
    "#Intersection of sets >> returns only common elements\n",
    "s1 & s2"
   ]
  },
  {
   "cell_type": "code",
   "execution_count": 8,
   "id": "afa49b0f-737b-4b8a-883a-dddf7d6db845",
   "metadata": {},
   "outputs": [
    {
     "data": {
      "text/plain": [
       "{4}"
      ]
     },
     "execution_count": 8,
     "metadata": {},
     "output_type": "execute_result"
    }
   ],
   "source": [
    "#Difference of sets >> returns the elements that is present in first set not in second. \n",
    "s1 - s2"
   ]
  },
  {
   "cell_type": "code",
   "execution_count": 94,
   "id": "4a851a85-14cd-4c2f-8426-799c1ccae0e0",
   "metadata": {},
   "outputs": [
    {
     "data": {
      "text/plain": [
       "{0, 4, 8, 9, 10, 12}"
      ]
     },
     "execution_count": 94,
     "metadata": {},
     "output_type": "execute_result"
    }
   ],
   "source": [
    "#Symmetric Difference of sets >> returns the elements that are present in either of sets but not in both.\n",
    "s1 ^ s2"
   ]
  },
  {
   "cell_type": "code",
   "execution_count": 9,
   "id": "6474d359-4af4-4116-a3ef-36dbc77d73b2",
   "metadata": {},
   "outputs": [],
   "source": [
    "#6. Discuss the use cases of tuples and sets in Python programming.\n",
    "#Answer:\n",
    "#i) Tuples: #Tuples are the ordered collection of items.\n",
    "             #Like lists, Its also stores everything.\n",
    "             #Like Lists, its also contains heterogenous data means it can contains the data of different datatypes.\n",
    "             #It also supports indexing means can access elements using its index.\n",
    "             #Index can be positive or negative.\n",
    "             #But there is one difference between the list and tuple i.e. lists are mutable whereas Tuples are immutable.\n",
    "             #Immuatable means we cannot modify the tuple once it is created.\n",
    "             #Tuples are made using () (Simple braces).\n",
    "            \n",
    "#ii) Sets:  #Sets are unordered collection of unique items.\n",
    "            #Sets doesn't allow duplicate elements.\n",
    "            #Sets are unordered that's why indexing will not work here.\n",
    "            #Sets inside set must be immuatble.\n",
    "            #Sets doesn't support the slicing.\n",
    "            #Sets are created using the {} (curly braces).\n",
    "            \n",
    "#Here an use cases of tuples and sets:"
   ]
  },
  {
   "cell_type": "code",
   "execution_count": 32,
   "id": "2961bc3e-23bc-4480-9d89-cb2f1d7d4b86",
   "metadata": {},
   "outputs": [
    {
     "name": "stdout",
     "output_type": "stream",
     "text": [
      "('Mumbai', 45, 'sunny') ('Delhi', 30, 'cold')\n"
     ]
    }
   ],
   "source": [
    "#Use cases of tuples:\n",
    "\n",
    "city1 = (\"Mumbai\", 45, \"sunny\")\n",
    "city2 = (\"Delhi\" , 30, \"cold\")\n",
    "print(city1, city2)"
   ]
  },
  {
   "cell_type": "code",
   "execution_count": 33,
   "id": "0551ec70-21d5-4244-bfa2-576a811e944d",
   "metadata": {},
   "outputs": [
    {
     "data": {
      "text/plain": [
       "('Mumbai', 45, 'sunny')"
      ]
     },
     "execution_count": 33,
     "metadata": {},
     "output_type": "execute_result"
    }
   ],
   "source": [
    "city1"
   ]
  },
  {
   "cell_type": "code",
   "execution_count": 34,
   "id": "85d2551a-2a66-4c02-b682-98f53fa204cd",
   "metadata": {},
   "outputs": [
    {
     "data": {
      "text/plain": [
       "('Delhi', 30, 'cold')"
      ]
     },
     "execution_count": 34,
     "metadata": {},
     "output_type": "execute_result"
    }
   ],
   "source": [
    "city2"
   ]
  },
  {
   "cell_type": "code",
   "execution_count": 35,
   "id": "0a3359e8-0b0d-4c3b-9821-c5fbb65fcd20",
   "metadata": {},
   "outputs": [
    {
     "ename": "AttributeError",
     "evalue": "'tuple' object has no attribute 'add'",
     "output_type": "error",
     "traceback": [
      "\u001b[0;31m---------------------------------------------------------------------------\u001b[0m",
      "\u001b[0;31mAttributeError\u001b[0m                            Traceback (most recent call last)",
      "Cell \u001b[0;32mIn[35], line 1\u001b[0m\n\u001b[0;32m----> 1\u001b[0m \u001b[43mcity1\u001b[49m\u001b[38;5;241;43m.\u001b[39;49m\u001b[43madd\u001b[49m(\u001b[38;5;124m\"\u001b[39m\u001b[38;5;124mrainy\u001b[39m\u001b[38;5;124m\"\u001b[39m)\n\u001b[1;32m      2\u001b[0m city1\n",
      "\u001b[0;31mAttributeError\u001b[0m: 'tuple' object has no attribute 'add'"
     ]
    }
   ],
   "source": [
    "city1.add(\"rainy\")\n",
    "city1"
   ]
  },
  {
   "cell_type": "code",
   "execution_count": null,
   "id": "76e9110b-4ee1-42d3-9db7-7cda23220679",
   "metadata": {},
   "outputs": [],
   "source": [
    "#we cannot add elements in tuples once its created."
   ]
  },
  {
   "cell_type": "code",
   "execution_count": 28,
   "id": "493cefac-a3bd-432e-8c66-8bd115523bbb",
   "metadata": {},
   "outputs": [
    {
     "data": {
      "text/plain": [
       "{'bags', 'jacket', 'jeans', 'shirts'}"
      ]
     },
     "execution_count": 28,
     "metadata": {},
     "output_type": "execute_result"
    }
   ],
   "source": [
    "#Use cases of sets:\n",
    "\n",
    "cart = {\"shirts\", \"jeans\", \"jacket\", \"shirts\", \"bags\", \"jeans\"}     #sets remove duplicates\n",
    "cart"
   ]
  },
  {
   "cell_type": "code",
   "execution_count": 29,
   "id": "8e97e36b-fa4c-420f-bd4e-0e9a7ec5635d",
   "metadata": {},
   "outputs": [],
   "source": [
    "cart.add(\"shoes\")      #sets allow to adding items "
   ]
  },
  {
   "cell_type": "code",
   "execution_count": 30,
   "id": "726fbf1a-5359-45d4-b014-1270edd16a62",
   "metadata": {},
   "outputs": [
    {
     "data": {
      "text/plain": [
       "{'bags', 'jacket', 'jeans', 'shirts', 'shoes'}"
      ]
     },
     "execution_count": 30,
     "metadata": {},
     "output_type": "execute_result"
    }
   ],
   "source": [
    "cart"
   ]
  },
  {
   "cell_type": "code",
   "execution_count": 31,
   "id": "333c6f1c-b3b6-4733-8955-3166f9131890",
   "metadata": {},
   "outputs": [
    {
     "data": {
      "text/plain": [
       "{'jacket', 'jeans', 'shirts', 'shoes'}"
      ]
     },
     "execution_count": 31,
     "metadata": {},
     "output_type": "execute_result"
    }
   ],
   "source": [
    "cart.remove(\"bags\")      #sets allow to remove items\n",
    "cart"
   ]
  },
  {
   "cell_type": "code",
   "execution_count": 36,
   "id": "99c732b1-b2ca-4dd7-b859-ccf9ba332e3f",
   "metadata": {},
   "outputs": [],
   "source": [
    "#7. Describe how to add, modify, and delete items in a dictionary with examples.\n",
    "#Answer:\n",
    "#It is the datastrcture that stores data as key-value pairs.\n",
    "#Keys are always unique and immutable.\n",
    "#It is ordered.\n",
    "#we can access elements using the key.\n",
    "#The representation of dictionary is >> dict = {key : value}\n",
    "#Some rules of defining keys are: we can use integers, string, float, boolean value, tuple, as a key but we cannot use list, set, dictionary and special character as a key.\n",
    "\n",
    "#Here some of example of dictionary:"
   ]
  },
  {
   "cell_type": "code",
   "execution_count": 50,
   "id": "4d9b5e48-3b2b-4d81-8141-217e9fbd6dfc",
   "metadata": {},
   "outputs": [
    {
     "data": {
      "text/plain": [
       "{'fruit1': 'apple',\n",
       " 'fruit2': 'mango',\n",
       " 'fruit3': 'watermelon',\n",
       " 'fruit4': 'gauva'}"
      ]
     },
     "execution_count": 50,
     "metadata": {},
     "output_type": "execute_result"
    }
   ],
   "source": [
    "my_dict = { \"fruit1\" : \"apple\",              #creation of dictionary\n",
    "           \"fruit2\" : \"mango\",\n",
    "           \"fruit3\" : \"watermelon\",\n",
    "           \"fruit4\" : \"gauva\" }\n",
    "my_dict"
   ]
  },
  {
   "cell_type": "code",
   "execution_count": 51,
   "id": "1579ac65-e7bf-4b91-a7a8-fbaff28773af",
   "metadata": {},
   "outputs": [
    {
     "data": {
      "text/plain": [
       "{'fruit1': 'apple',\n",
       " 'fruit2': 'mango',\n",
       " 'fruit3': 'watermelon',\n",
       " 'fruit4': 'banana'}"
      ]
     },
     "execution_count": 51,
     "metadata": {},
     "output_type": "execute_result"
    }
   ],
   "source": [
    "my_dict[\"fruit4\"] = \"banana\"               #adding elements in dictionary\n",
    "my_dict"
   ]
  },
  {
   "cell_type": "code",
   "execution_count": 52,
   "id": "ce38b982-1ae7-4d65-8e7d-487a3bf404ed",
   "metadata": {},
   "outputs": [
    {
     "data": {
      "text/plain": [
       "{'fruit1': 'apple',\n",
       " 'fruit2': 'mango',\n",
       " 'fruit3': 'watermelon',\n",
       " 'fruit4': 'banana',\n",
       " 'fruit5': 'custardapple'}"
      ]
     },
     "execution_count": 52,
     "metadata": {},
     "output_type": "execute_result"
    }
   ],
   "source": [
    "my_dict[\"fruit5\"] = \"custardapple\"\n",
    "my_dict"
   ]
  },
  {
   "cell_type": "code",
   "execution_count": 53,
   "id": "3edac662-77cd-4c91-9355-ccce9927a0d7",
   "metadata": {},
   "outputs": [
    {
     "data": {
      "text/plain": [
       "{'fruit1': 'apple',\n",
       " 'fruit2': 'mango',\n",
       " 'fruit3': 'watermelon',\n",
       " 'fruit4': 'banana'}"
      ]
     },
     "execution_count": 53,
     "metadata": {},
     "output_type": "execute_result"
    }
   ],
   "source": [
    "my_dict.pop(\"fruit5\")                        #modifying the dictionary by removing one element\n",
    "my_dict "
   ]
  },
  {
   "cell_type": "code",
   "execution_count": 54,
   "id": "ae1ed751-fc9a-49a0-9164-1d9d6b46163f",
   "metadata": {},
   "outputs": [
    {
     "data": {
      "text/plain": [
       "{'fruit1': 'apple', 'fruit2': 'mango', 'fruit3': 'watermelon'}"
      ]
     },
     "execution_count": 54,
     "metadata": {},
     "output_type": "execute_result"
    }
   ],
   "source": [
    "del my_dict[\"fruit4\"]                      #deleting the element \n",
    "my_dict"
   ]
  },
  {
   "cell_type": "code",
   "execution_count": 56,
   "id": "97f06e2b-57d2-42eb-8e60-06411fb894f4",
   "metadata": {},
   "outputs": [],
   "source": [
    "#8. Discuss the importance of dictionary keys being immutable and provide examples.\n",
    "#Answer:\n",
    "#Immutable data types such as strings, numbers, and tuples (if they contain only immutable elements) can be used as keys in a dictionary. \n",
    "#Mutable data types like lists cannot be used as keys because they can be changed after being created, which could lead to unexpected behavior when using a dictionary. \n",
    "#In summary, the part of a dictionary element that must be immutable is the key\n",
    "#Key-value pairs are the cornerstone of Python dictionaries. \n",
    "#Think of them as unique address labels ('key') tied to specific content ('value'). \n",
    "#This design allows for quick retrieval of information; by providing the correct key, Python can pull out the associated value instantly.\n",
    "\n",
    "#examples are:"
   ]
  },
  {
   "cell_type": "code",
   "execution_count": 58,
   "id": "ccf045eb-8a55-4036-880f-07eeaaaafc00",
   "metadata": {},
   "outputs": [
    {
     "data": {
      "text/plain": [
       "{'ram': 264774918, 'priya': 638723183, 'raj': 735925381, 'nita': 3647903833}"
      ]
     },
     "execution_count": 58,
     "metadata": {},
     "output_type": "execute_result"
    }
   ],
   "source": [
    "contact_details = {\"ram\" : 264774918,\n",
    "                   \"priya\" : 638723183,       \n",
    "                   \"raj\" : 735925381,\n",
    "                   \"nita\" : 3647903833 }\n",
    "contact_details"
   ]
  },
  {
   "cell_type": "code",
   "execution_count": null,
   "id": "edb9219b-c04a-4e39-a17a-d66ebbdaa4db",
   "metadata": {},
   "outputs": [],
   "source": [
    "#keys must be immune to changes to preserve the integrity of this pairing system. \n",
    "#Meanwhile, values can flow and change like a river-they are mutable. \n",
    "#This contrast is crucial, allowing Python to maintain a stable system of addresses (keys) while the content at those addresses (values) can be updated as needed."
   ]
  },
  {
   "cell_type": "code",
   "execution_count": 61,
   "id": "34b98094-85c0-46b1-bfa4-f763ad68376b",
   "metadata": {},
   "outputs": [],
   "source": [
    "contact_details[\"nita\"] = 8373628282          #here you can change or modify the value of respected key"
   ]
  },
  {
   "cell_type": "code",
   "execution_count": 60,
   "id": "27e604a7-b0be-4114-931e-be4baf5876d9",
   "metadata": {},
   "outputs": [
    {
     "data": {
      "text/plain": [
       "{'ram': 264774918, 'priya': 638723183, 'raj': 735925381, 'nita': 8373628282}"
      ]
     },
     "execution_count": 60,
     "metadata": {},
     "output_type": "execute_result"
    }
   ],
   "source": [
    "contact_details"
   ]
  },
  {
   "cell_type": "code",
   "execution_count": null,
   "id": "b4a18fd1-2574-4da9-b15c-719d1bef0989",
   "metadata": {},
   "outputs": [],
   "source": [
    "#but cannot modify the key respectively."
   ]
  }
 ],
 "metadata": {
  "kernelspec": {
   "display_name": "Python 3 (ipykernel)",
   "language": "python",
   "name": "python3"
  },
  "language_info": {
   "codemirror_mode": {
    "name": "ipython",
    "version": 3
   },
   "file_extension": ".py",
   "mimetype": "text/x-python",
   "name": "python",
   "nbconvert_exporter": "python",
   "pygments_lexer": "ipython3",
   "version": "3.10.8"
  }
 },
 "nbformat": 4,
 "nbformat_minor": 5
}
